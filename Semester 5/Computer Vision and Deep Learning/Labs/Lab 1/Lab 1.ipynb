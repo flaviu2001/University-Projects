{
 "cells": [
  {
   "cell_type": "markdown",
   "metadata": {
    "id": "6O1hMQZ4bcBY"
   },
   "source": [
    "# Laboratory 1"
   ]
  },
  {
   "cell_type": "markdown",
   "metadata": {
    "id": "AwEqZ118bcBZ"
   },
   "source": [
    "Hello and welcome to your first laboratory! :)\n",
    "\n",
    "This is an introductory session to Python and a few libraries that we'll frequently use in this course (numpy, matplotlib, opencv, keras). \n",
    "\n",
    "After completing this session, you will:\n",
    "* gain some basic image manipulation skills\n",
    "* be able to vectorize code (avoid using for loops)\n",
    "* get familiar with the concept of broadcasting in numpy\n",
    "\n",
    "For some of the exercises you'll have the expected output displayed just below the cell, so that you can check if your output is correct.\n"
   ]
  },
  {
   "cell_type": "code",
   "execution_count": 1,
   "metadata": {
    "id": "S7Jjz2pObcBa",
    "scrolled": true
   },
   "outputs": [],
   "source": [
    "# library imports\n",
    "import cv2\n",
    "import tensorflow.keras as keras\n",
    "import numpy as np\n",
    "import matplotlib.pyplot as plt\n",
    "\n",
    "%matplotlib inline\n",
    "#The line above is necesary to show Matplotlib's plots inside a Jupyter Notebook\n"
   ]
  },
  {
   "cell_type": "code",
   "execution_count": 2,
   "metadata": {
    "colab": {
     "base_uri": "https://localhost:8080/"
    },
    "id": "RxVqhpd_YmLZ",
    "outputId": "8fbd5acb-1187-4918-be75-a58a60e0345f"
   },
   "outputs": [
    {
     "name": "stdout",
     "output_type": "stream",
     "text": [
      "--2021-11-10 19:59:14--  http://drive.google.com/uc?export=download&id=1fRvlErNtIV-HX9Vat0I6FINBXEafeDC7\n",
      "Resolving drive.google.com (drive.google.com)... 142.250.185.206, 2a00:1450:4001:812::200e\n",
      "Connecting to drive.google.com (drive.google.com)|142.250.185.206|:80... connected.\n",
      "HTTP request sent, awaiting response... 302 Moved Temporarily\n",
      "Location: https://drive.google.com/uc?export=download&id=1fRvlErNtIV-HX9Vat0I6FINBXEafeDC7 [following]\n",
      "--2021-11-10 19:59:14--  https://drive.google.com/uc?export=download&id=1fRvlErNtIV-HX9Vat0I6FINBXEafeDC7\n",
      "SSL_INIT\n",
      "Loaded CA certificate '/etc/ssl/certs/ca-certificates.crt'\n",
      "Connecting to drive.google.com (drive.google.com)|142.250.185.206|:443... connected.\n",
      "HTTP request sent, awaiting response... 302 Moved Temporarily\n",
      "Location: https://doc-0g-38-docs.googleusercontent.com/docs/securesc/ha0ro937gcuc7l7deffksulhg5h7mbp1/02od689eobgeqd22vtm9quhsf5iqeaaf/1636567125000/02075498819312407694/*/1fRvlErNtIV-HX9Vat0I6FINBXEafeDC7?e=download [following]\n",
      "Warning: wildcards not supported in HTTP.\n",
      "--2021-11-10 19:59:14--  https://doc-0g-38-docs.googleusercontent.com/docs/securesc/ha0ro937gcuc7l7deffksulhg5h7mbp1/02od689eobgeqd22vtm9quhsf5iqeaaf/1636567125000/02075498819312407694/*/1fRvlErNtIV-HX9Vat0I6FINBXEafeDC7?e=download\n",
      "SSL_INIT\n",
      "Resolving doc-0g-38-docs.googleusercontent.com (doc-0g-38-docs.googleusercontent.com)... 142.250.185.193, 2a00:1450:4001:812::2001\n",
      "Connecting to doc-0g-38-docs.googleusercontent.com (doc-0g-38-docs.googleusercontent.com)|142.250.185.193|:443... connected.\n",
      "HTTP request sent, awaiting response... 200 OK\n",
      "Length: 105051 (103K) [image/png]\n",
      "Saving to: ‘dance_moves.png’\n",
      "\n",
      "dance_moves.png     100%[===================>] 102.59K  --.-KB/s    in 0.1s    \n",
      "\n",
      "2021-11-10 19:59:15 (1007 KB/s) - ‘dance_moves.png’ saved [105051/105051]\n",
      "\n",
      "--2021-11-10 19:59:15--  https://docs.google.com/uc?export=download&id=1zjltpYscUqnDSP6eUlU-gecadGXvQtTz\n",
      "SSL_INIT\n",
      "Loaded CA certificate '/etc/ssl/certs/ca-certificates.crt'\n",
      "Resolving docs.google.com (docs.google.com)... 142.250.186.174, 2a00:1450:4001:82b::200e\n",
      "Connecting to docs.google.com (docs.google.com)|142.250.186.174|:443... connected.\n",
      "HTTP request sent, awaiting response... 302 Moved Temporarily\n",
      "Location: https://doc-08-38-docs.googleusercontent.com/docs/securesc/ha0ro937gcuc7l7deffksulhg5h7mbp1/8tg69oipbn6r0tqvfg881d2tkfd77m8o/1636567125000/02075498819312407694/*/1zjltpYscUqnDSP6eUlU-gecadGXvQtTz?e=download [following]\n",
      "Warning: wildcards not supported in HTTP.\n",
      "--2021-11-10 19:59:16--  https://doc-08-38-docs.googleusercontent.com/docs/securesc/ha0ro937gcuc7l7deffksulhg5h7mbp1/8tg69oipbn6r0tqvfg881d2tkfd77m8o/1636567125000/02075498819312407694/*/1zjltpYscUqnDSP6eUlU-gecadGXvQtTz?e=download\n",
      "SSL_INIT\n",
      "Resolving doc-08-38-docs.googleusercontent.com (doc-08-38-docs.googleusercontent.com)... 142.250.185.193, 2a00:1450:4001:812::2001\n",
      "Connecting to doc-08-38-docs.googleusercontent.com (doc-08-38-docs.googleusercontent.com)|142.250.185.193|:443... connected.\n",
      "HTTP request sent, awaiting response... 200 OK\n",
      "Length: 143441 (140K) [image/jpeg]\n",
      "Saving to: ‘cute_cat.jpg’\n",
      "\n",
      "cute_cat.jpg        100%[===================>] 140.08K  --.-KB/s    in 0.1s    \n",
      "\n",
      "2021-11-10 19:59:17 (1.11 MB/s) - ‘cute_cat.jpg’ saved [143441/143441]\n",
      "\n",
      "--2021-11-10 19:59:17--  http://drive.google.com/uc?export=download&id=1y46KaIsyhgh030Zi9eoAYfO_ezkE4CY3\n",
      "Resolving drive.google.com (drive.google.com)... 142.250.185.206, 2a00:1450:4001:812::200e\n",
      "Connecting to drive.google.com (drive.google.com)|142.250.185.206|:80... connected.\n",
      "HTTP request sent, awaiting response... 302 Moved Temporarily\n",
      "Location: https://drive.google.com/uc?export=download&id=1y46KaIsyhgh030Zi9eoAYfO_ezkE4CY3 [following]\n",
      "--2021-11-10 19:59:17--  https://drive.google.com/uc?export=download&id=1y46KaIsyhgh030Zi9eoAYfO_ezkE4CY3\n",
      "SSL_INIT\n",
      "Loaded CA certificate '/etc/ssl/certs/ca-certificates.crt'\n",
      "Connecting to drive.google.com (drive.google.com)|142.250.185.206|:443... connected.\n",
      "HTTP request sent, awaiting response... 302 Moved Temporarily\n",
      "Location: https://doc-0o-38-docs.googleusercontent.com/docs/securesc/ha0ro937gcuc7l7deffksulhg5h7mbp1/1oi04t6btp6tcfks471533k3934ec5dl/1636567125000/02075498819312407694/*/1y46KaIsyhgh030Zi9eoAYfO_ezkE4CY3?e=download [following]\n",
      "Warning: wildcards not supported in HTTP.\n",
      "--2021-11-10 19:59:18--  https://doc-0o-38-docs.googleusercontent.com/docs/securesc/ha0ro937gcuc7l7deffksulhg5h7mbp1/1oi04t6btp6tcfks471533k3934ec5dl/1636567125000/02075498819312407694/*/1y46KaIsyhgh030Zi9eoAYfO_ezkE4CY3?e=download\n",
      "SSL_INIT\n",
      "Resolving doc-0o-38-docs.googleusercontent.com (doc-0o-38-docs.googleusercontent.com)... 142.250.185.193, 2a00:1450:4001:812::2001\n",
      "Connecting to doc-0o-38-docs.googleusercontent.com (doc-0o-38-docs.googleusercontent.com)|142.250.185.193|:443... connected.\n",
      "HTTP request sent, awaiting response... 200 OK\n",
      "Length: 19115 (19K) [image/png]\n",
      "Saving to: ‘axes.jpg’\n",
      "\n",
      "axes.jpg            100%[===================>]  18.67K  --.-KB/s    in 0.03s   \n",
      "\n",
      "2021-11-10 19:59:19 (573 KB/s) - ‘axes.jpg’ saved [19115/19115]\n",
      "\n",
      "--2021-11-10 19:59:19--  http://drive.google.com/uc?export=download&id=11Jzu1t1RVXMWxp0OK3KJaUgKv9exqv2O\n",
      "Resolving drive.google.com (drive.google.com)... 142.250.185.206, 2a00:1450:4001:812::200e\n",
      "Connecting to drive.google.com (drive.google.com)|142.250.185.206|:80... connected.\n",
      "HTTP request sent, awaiting response... 302 Moved Temporarily\n",
      "Location: https://drive.google.com/uc?export=download&id=11Jzu1t1RVXMWxp0OK3KJaUgKv9exqv2O [following]\n",
      "--2021-11-10 19:59:19--  https://drive.google.com/uc?export=download&id=11Jzu1t1RVXMWxp0OK3KJaUgKv9exqv2O\n",
      "SSL_INIT\n",
      "Loaded CA certificate '/etc/ssl/certs/ca-certificates.crt'\n",
      "Connecting to drive.google.com (drive.google.com)|142.250.185.206|:443... connected.\n",
      "HTTP request sent, awaiting response... 302 Moved Temporarily\n",
      "Location: https://doc-08-38-docs.googleusercontent.com/docs/securesc/ha0ro937gcuc7l7deffksulhg5h7mbp1/s4m6uefg2td9vbvpjcv5m32gdjlmi7cr/1636567125000/02075498819312407694/*/11Jzu1t1RVXMWxp0OK3KJaUgKv9exqv2O?e=download [following]\n",
      "Warning: wildcards not supported in HTTP.\n",
      "--2021-11-10 19:59:20--  https://doc-08-38-docs.googleusercontent.com/docs/securesc/ha0ro937gcuc7l7deffksulhg5h7mbp1/s4m6uefg2td9vbvpjcv5m32gdjlmi7cr/1636567125000/02075498819312407694/*/11Jzu1t1RVXMWxp0OK3KJaUgKv9exqv2O?e=download\n",
      "SSL_INIT\n",
      "Resolving doc-08-38-docs.googleusercontent.com (doc-08-38-docs.googleusercontent.com)... 142.250.185.193, 2a00:1450:4001:812::2001\n",
      "Connecting to doc-08-38-docs.googleusercontent.com (doc-08-38-docs.googleusercontent.com)|142.250.185.193|:443... connected.\n",
      "HTTP request sent, awaiting response... 200 OK\n",
      "Length: 26449 (26K) [image/png]\n",
      "Saving to: ‘sum0.jpg’\n",
      "\n",
      "sum0.jpg            100%[===================>]  25.83K  --.-KB/s    in 0.09s   \n",
      "\n",
      "2021-11-10 19:59:21 (293 KB/s) - ‘sum0.jpg’ saved [26449/26449]\n",
      "\n",
      "--2021-11-10 19:59:21--  http://drive.google.com/uc?export=download&id=1LUYh0HtP6Vd2eq7rPXOhXjBKXlvU--L5\n",
      "Resolving drive.google.com (drive.google.com)... 142.250.185.206, 2a00:1450:4001:812::200e\n",
      "Connecting to drive.google.com (drive.google.com)|142.250.185.206|:80... connected.\n",
      "HTTP request sent, awaiting response... 302 Moved Temporarily\n",
      "Location: https://drive.google.com/uc?export=download&id=1LUYh0HtP6Vd2eq7rPXOhXjBKXlvU--L5 [following]\n",
      "--2021-11-10 19:59:21--  https://drive.google.com/uc?export=download&id=1LUYh0HtP6Vd2eq7rPXOhXjBKXlvU--L5\n",
      "SSL_INIT\n",
      "Loaded CA certificate '/etc/ssl/certs/ca-certificates.crt'\n",
      "Connecting to drive.google.com (drive.google.com)|142.250.185.206|:443... connected.\n",
      "HTTP request sent, awaiting response... 302 Moved Temporarily\n",
      "Location: https://doc-0s-38-docs.googleusercontent.com/docs/securesc/ha0ro937gcuc7l7deffksulhg5h7mbp1/skt7b30mjo2f6jsqprfpqe39cbokc2ef/1636567125000/02075498819312407694/*/1LUYh0HtP6Vd2eq7rPXOhXjBKXlvU--L5?e=download [following]\n",
      "Warning: wildcards not supported in HTTP.\n",
      "--2021-11-10 19:59:22--  https://doc-0s-38-docs.googleusercontent.com/docs/securesc/ha0ro937gcuc7l7deffksulhg5h7mbp1/skt7b30mjo2f6jsqprfpqe39cbokc2ef/1636567125000/02075498819312407694/*/1LUYh0HtP6Vd2eq7rPXOhXjBKXlvU--L5?e=download\n",
      "SSL_INIT\n",
      "Resolving doc-0s-38-docs.googleusercontent.com (doc-0s-38-docs.googleusercontent.com)... 142.250.185.193, 2a00:1450:4001:812::2001\n"
     ]
    },
    {
     "name": "stdout",
     "output_type": "stream",
     "text": [
      "Connecting to doc-0s-38-docs.googleusercontent.com (doc-0s-38-docs.googleusercontent.com)|142.250.185.193|:443... connected.\n",
      "HTTP request sent, awaiting response... 200 OK\n",
      "Length: 24891 (24K) [image/png]\n",
      "Saving to: ‘sum1.jpg’\n",
      "\n",
      "sum1.jpg            100%[===================>]  24.31K  --.-KB/s    in 0.05s   \n",
      "\n",
      "2021-11-10 19:59:23 (538 KB/s) - ‘sum1.jpg’ saved [24891/24891]\n",
      "\n",
      "--2021-11-10 19:59:23--  http://drive.google.com/uc?export=download&id=1q_BsBdLZXxA2fkrY1WXWn8B5RGOFBLUd\n",
      "Resolving drive.google.com (drive.google.com)... 142.250.185.206, 2a00:1450:4001:812::200e\n",
      "Connecting to drive.google.com (drive.google.com)|142.250.185.206|:80... connected.\n",
      "HTTP request sent, awaiting response... 302 Moved Temporarily\n",
      "Location: https://drive.google.com/uc?export=download&id=1q_BsBdLZXxA2fkrY1WXWn8B5RGOFBLUd [following]\n",
      "--2021-11-10 19:59:23--  https://drive.google.com/uc?export=download&id=1q_BsBdLZXxA2fkrY1WXWn8B5RGOFBLUd\n",
      "SSL_INIT\n",
      "Loaded CA certificate '/etc/ssl/certs/ca-certificates.crt'\n",
      "Connecting to drive.google.com (drive.google.com)|142.250.185.206|:443... connected.\n",
      "HTTP request sent, awaiting response... 302 Moved Temporarily\n",
      "Location: https://doc-0k-38-docs.googleusercontent.com/docs/securesc/ha0ro937gcuc7l7deffksulhg5h7mbp1/g0p51hutvaj0nmhn2aq1srl4i07evn3r/1636567125000/02075498819312407694/*/1q_BsBdLZXxA2fkrY1WXWn8B5RGOFBLUd?e=download [following]\n",
      "Warning: wildcards not supported in HTTP.\n",
      "--2021-11-10 19:59:24--  https://doc-0k-38-docs.googleusercontent.com/docs/securesc/ha0ro937gcuc7l7deffksulhg5h7mbp1/g0p51hutvaj0nmhn2aq1srl4i07evn3r/1636567125000/02075498819312407694/*/1q_BsBdLZXxA2fkrY1WXWn8B5RGOFBLUd?e=download\n",
      "SSL_INIT\n",
      "Resolving doc-0k-38-docs.googleusercontent.com (doc-0k-38-docs.googleusercontent.com)... 142.250.185.193, 2a00:1450:4001:812::2001\n",
      "Connecting to doc-0k-38-docs.googleusercontent.com (doc-0k-38-docs.googleusercontent.com)|142.250.185.193|:443... connected.\n",
      "HTTP request sent, awaiting response... 200 OK\n",
      "Length: 22021 (22K) [image/png]\n",
      "Saving to: ‘concat0.jpg’\n",
      "\n",
      "concat0.jpg         100%[===================>]  21.50K  --.-KB/s    in 0.04s   \n",
      "\n",
      "2021-11-10 19:59:24 (558 KB/s) - ‘concat0.jpg’ saved [22021/22021]\n",
      "\n",
      "--2021-11-10 19:59:25--  http://drive.google.com/uc?export=download&id=1491c1NZQMOnHlvVp6eiiIl2l1wYO6o56\n",
      "Resolving drive.google.com (drive.google.com)... 142.250.185.206, 2a00:1450:4001:812::200e\n",
      "Connecting to drive.google.com (drive.google.com)|142.250.185.206|:80... connected.\n",
      "HTTP request sent, awaiting response... 302 Moved Temporarily\n",
      "Location: https://drive.google.com/uc?export=download&id=1491c1NZQMOnHlvVp6eiiIl2l1wYO6o56 [following]\n",
      "--2021-11-10 19:59:25--  https://drive.google.com/uc?export=download&id=1491c1NZQMOnHlvVp6eiiIl2l1wYO6o56\n",
      "SSL_INIT\n",
      "Loaded CA certificate '/etc/ssl/certs/ca-certificates.crt'\n",
      "Connecting to drive.google.com (drive.google.com)|142.250.185.206|:443... connected.\n",
      "HTTP request sent, awaiting response... 302 Moved Temporarily\n",
      "Location: https://doc-0g-38-docs.googleusercontent.com/docs/securesc/ha0ro937gcuc7l7deffksulhg5h7mbp1/c0poi91jl4dlqah24hs1k23kl47viakc/1636567125000/02075498819312407694/*/1491c1NZQMOnHlvVp6eiiIl2l1wYO6o56?e=download [following]\n",
      "Warning: wildcards not supported in HTTP.\n",
      "--2021-11-10 19:59:26--  https://doc-0g-38-docs.googleusercontent.com/docs/securesc/ha0ro937gcuc7l7deffksulhg5h7mbp1/c0poi91jl4dlqah24hs1k23kl47viakc/1636567125000/02075498819312407694/*/1491c1NZQMOnHlvVp6eiiIl2l1wYO6o56?e=download\n",
      "SSL_INIT\n",
      "Resolving doc-0g-38-docs.googleusercontent.com (doc-0g-38-docs.googleusercontent.com)... 142.250.185.193, 2a00:1450:4001:812::2001\n",
      "Connecting to doc-0g-38-docs.googleusercontent.com (doc-0g-38-docs.googleusercontent.com)|142.250.185.193|:443... connected.\n",
      "HTTP request sent, awaiting response... 200 OK\n",
      "Length: 19392 (19K) [image/png]\n",
      "Saving to: ‘concat1.jpg’\n",
      "\n",
      "concat1.jpg         100%[===================>]  18.94K  --.-KB/s    in 0.03s   \n",
      "\n",
      "2021-11-10 19:59:26 (557 KB/s) - ‘concat1.jpg’ saved [19392/19392]\n",
      "\n"
     ]
    }
   ],
   "source": [
    "!wget \"http://drive.google.com/uc?export=download&id=1fRvlErNtIV-HX9Vat0I6FINBXEafeDC7\" -O dance_moves.png\n",
    "!wget \"https://docs.google.com/uc?export=download&id=1zjltpYscUqnDSP6eUlU-gecadGXvQtTz\" -O cute_cat.jpg\n",
    "!wget \"http://drive.google.com/uc?export=download&id=1y46KaIsyhgh030Zi9eoAYfO_ezkE4CY3\" -O axes.jpg\n",
    "!wget \"http://drive.google.com/uc?export=download&id=11Jzu1t1RVXMWxp0OK3KJaUgKv9exqv2O\" -O sum0.jpg\n",
    "!wget \"http://drive.google.com/uc?export=download&id=1LUYh0HtP6Vd2eq7rPXOhXjBKXlvU--L5\" -O sum1.jpg\n",
    "!wget \"http://drive.google.com/uc?export=download&id=1q_BsBdLZXxA2fkrY1WXWn8B5RGOFBLUd\" -O concat0.jpg\n",
    "!wget \"http://drive.google.com/uc?export=download&id=1491c1NZQMOnHlvVp6eiiIl2l1wYO6o56\" -O concat1.jpg"
   ]
  },
  {
   "cell_type": "markdown",
   "metadata": {
    "id": "QxGHu5XKbcBe"
   },
   "source": [
    "# *numpy*"
   ]
  },
  {
   "cell_type": "markdown",
   "metadata": {
    "id": "CrDeVG_BbcBf"
   },
   "source": [
    "We'll frequently use the *numpy* library for this lecture; *numpy* is perhaps the most popular library used for scientific computing in Python. *numpy* works with multidimensional arrays, and provides several operations to efficiently manipulate these arrays.\n",
    "\n",
    "An array contains elements of the same type, arranged in a grid of values. An array can be accessed by a tuple of non-negative integers, by booleans, by another array, or by integers, as we'll see later in this laboratory.\n",
    "\n",
    "An array is described by its:\n",
    "- rank - the number of dimensions of the array\n",
    "- shape - a tuple that specifies the size of the array along each dimension\n",
    "- type - the library provides several numeric datatypes (uint8, float32, int32 etc.)\n",
    "\n",
    "There are several ways you can create an array in numpy:"
   ]
  },
  {
   "cell_type": "code",
   "execution_count": 3,
   "metadata": {
    "colab": {
     "base_uri": "https://localhost:8080/"
    },
    "id": "7wB8kGa3bcBf",
    "outputId": "dfd5844c-0dd6-4ad6-b3a4-a984dcdd3f77"
   },
   "outputs": [
    {
     "name": "stdout",
     "output_type": "stream",
     "text": [
      "a is a numpy array  <class 'numpy.ndarray'>\n",
      "the shape of a is  (3,)  and its rank is  1\n",
      "the type of the elements stored in a is  int64\n",
      "---\n",
      "the shape of b is  (2, 3)  and its rank is  2\n",
      "the type of the elements stored in b is  float64\n",
      "---\n",
      "the shape of c is  (1, 1, 1)  and its rank is  3\n",
      "the type of the elements stored in c is  uint8\n"
     ]
    }
   ],
   "source": [
    "import numpy as np\n",
    "# create an array with rank 1\n",
    "a = np.array([1, 2, 3])   \n",
    "print('a is a numpy array ', type(a))            \n",
    "print('the shape of a is ', a.shape, ' and its rank is ', len(a.shape))\n",
    "print('the type of the elements stored in a is ', a.dtype)\n",
    "print('---')\n",
    "b = np.array([[1.0, 2, 3],[4, 5, 6]])   \n",
    "print('the shape of b is ', b.shape, ' and its rank is ', len(b.shape))\n",
    "print('the type of the elements stored in b is ', b.dtype) \n",
    "print('---')\n",
    "# numpy automatically determines the type of the elements that will be stored in the array\n",
    "# but you can also specify the type in the constructor\n",
    "c = np.array([[[0]]], dtype=np.uint8)\n",
    "print('the shape of c is ', c.shape, ' and its rank is ', len(c.shape))\n",
    "print('the type of the elements stored in c is ', c.dtype) "
   ]
  },
  {
   "cell_type": "code",
   "execution_count": 4,
   "metadata": {
    "id": "PnERTZ2bbcBi"
   },
   "outputs": [
    {
     "name": "stdout",
     "output_type": "stream",
     "text": [
      "zeros array [[0. 0.]] of shape (1, 2)\n",
      "identity matrix of size 3x3  [[1. 0. 0.]\n",
      " [0. 1. 0.]\n",
      " [0. 0. 1.]]\n",
      "array of 10 random elements  [0.85744667 0.59063395 0.61504639 0.50862582 0.75633517 0.11872191\n",
      " 0.88339166 0.47536385 0.65421062 0.7230315 ]\n"
     ]
    }
   ],
   "source": [
    "# there are also other array constructors that you might find useful\n",
    "a = np.zeros(shape=(1, 2)) # creates an array filled with 0s of shape (1, 2) - 1 row, two columns\n",
    "print('zeros array {} of shape {}'.format(a, a.shape))\n",
    "\n",
    "b = np.ones((224, 224, 3), dtype=np.uint8) # creates an array filled with ones of shape (224, 224, 3) and type uint8\n",
    "\n",
    "c = np.full((4, 4, 3), 255) # creates an array filled with 255 of shape (4, 4, 3) \n",
    "\n",
    "d = np.eye(3) # creates an identity matrix of size (3x3)\n",
    "print('identity matrix of size 3x3 ', d)\n",
    "\n",
    "r = np.random.random(10) # creates an array of 10 elements, filled with random values\n",
    "print('array of 10 random elements ', r)\n",
    "\n",
    "zl = np.zeros_like(r) # create a new array with the same shape as r, but filled with 0 values\n",
    "\n"
   ]
  },
  {
   "cell_type": "markdown",
   "metadata": {
    "id": "P8sIkG0AbcBl"
   },
   "source": [
    "## Indexing"
   ]
  },
  {
   "cell_type": "code",
   "execution_count": 5,
   "metadata": {
    "id": "cpmb-M2qbcBm",
    "scrolled": false
   },
   "outputs": [
    {
     "name": "stdout",
     "output_type": "stream",
     "text": [
      "a is  [1 2 3]\n",
      "Set the 2nd element to 4\n",
      "Modified a is:\n",
      "[1 2 4]\n",
      "---\n",
      "Modified b is\n",
      "[[1. 0. 0.]\n",
      " [0. 2. 0.]\n",
      " [0. 0. 1.]]\n",
      "The first row of b is:  [1. 0. 0.]\n",
      "The second element from the second row of b is  2.0\n"
     ]
    }
   ],
   "source": [
    "a = np.array([1, 2, 3])\n",
    "print('a is ', a)\n",
    "a[2] = 4\n",
    "print('Set the 2nd element to 4')\n",
    "print('Modified a is:')\n",
    "print(a)\n",
    "\n",
    "print('---')\n",
    "b = np.eye(3)\n",
    "b[1, 1] = 2\n",
    "print('Modified b is')\n",
    "print(b)\n",
    "\n",
    "# you can use normal integer indexing\n",
    "print('The first row of b is: ', b[0])\n",
    "print('The second element from the second row of b is ', b[1, 1]) "
   ]
  },
  {
   "cell_type": "markdown",
   "metadata": {
    "id": "F7udkMosbcBp"
   },
   "source": [
    "Similar to python lists, *numpy* allows you to <i>slice</i> the array; this is just a  flexible way to access subarrays."
   ]
  },
  {
   "cell_type": "code",
   "execution_count": 6,
   "metadata": {
    "colab": {
     "base_uri": "https://localhost:8080/"
    },
    "id": "Fk6heUzGbcBp",
    "outputId": "2854b964-2069-4ee6-b5b8-c89597f4e516"
   },
   "outputs": [
    {
     "name": "stdout",
     "output_type": "stream",
     "text": [
      "a is \n",
      " [1 2 3 4 5 6 7 8 9]\n",
      "a[3:6] is \n",
      " [4 5 6]\n",
      "a[3:] is \n",
      " [4 5 6 7 8 9]\n",
      "a[:3] is \n",
      " [1 2 3]\n",
      "a[4:-1] is \n",
      " [5 6 7 8]\n",
      "---\n",
      "a:  [[ 1  2  3  4]\n",
      " [ 5  6  7  8]\n",
      " [ 9 10 11 12]]\n",
      "row1: [[1 2 3 4]]\n",
      "a[0][0]:  1\n",
      "r[0][0]:  1\n",
      "r[0, 0] = 100\n",
      "row1: [[100   2   3   4]]\n",
      "a[0][0]:  100\n",
      "r[0][0]:  100\n"
     ]
    }
   ],
   "source": [
    "# slicing\n",
    "a = np.arange(1, 10, 1) # returns an array with evenly spaced values in the interval [1, 10), with a step of 1\n",
    "[1, 2, 3, 4, ..., 9]\n",
    "print('a is \\n', a)\n",
    "print('a[3:6] is \\n', a[3:6])   # get a slice from index 3 to 6 (exclusive)\n",
    "print('a[3:] is \\n', a[3:])    # get a slice from index 3 to the end\n",
    "print('a[:3] is \\n', a[:3])    # get a slice from the start to index 3 (exclusive)\n",
    "print('a[4:-1] is \\n', a[4:-1])  # get a slice from index 4 start to the last element of the array (exclusive)\n",
    "\n",
    "print('---')\n",
    "\n",
    "a = np.array([[1,2,3,4], [5,6,7,8], [9,10,11,12]])\n",
    "print('a: ', a)\n",
    "\n",
    "## ATTENTION! a slice is just a view on an array, so it points to the same data\n",
    "# modifying it, it will modify the original array\n",
    "r = a[:1,:]\n",
    "print('row1:',  r)\n",
    "print('a[0][0]: ', a[0, 0])\n",
    "print('r[0][0]: ', r[0, 0])\n",
    "print('r[0, 0] = 100')\n",
    "r[0, 0] = 100\n",
    "print('row1:',  r)\n",
    "print('a[0][0]: ', a[0, 0])\n",
    "print('r[0][0]: ', r[0, 0])\n"
   ]
  },
  {
   "cell_type": "markdown",
   "metadata": {
    "id": "FCbf-Aq9bcBs"
   },
   "source": [
    "*numpy* also support integer array indexing.\n",
    "\n",
    "Attention, there is a slight (and important) difference when using integer array indexing: when using slicing, the result will also be a subarray of the existing array (a view on the existing array), while integer array indexing allows you to create new arrays based on the the data in the original array."
   ]
  },
  {
   "cell_type": "code",
   "execution_count": 7,
   "metadata": {
    "colab": {
     "base_uri": "https://localhost:8080/"
    },
    "id": "IG6fKQLMbcBs",
    "outputId": "b48943b4-ea4c-463b-b067-35ba2d089e63"
   },
   "outputs": [
    {
     "name": "stdout",
     "output_type": "stream",
     "text": [
      "original array: \n",
      " [0 1 2 3 4 5]\n",
      "The elements in a from the indices [0, 2, 4] are: \n",
      " [0 2 4]\n",
      "---\n",
      "original array: \n",
      " [[ 1  2  3  4]\n",
      " [ 5  6  7  8]\n",
      " [ 9 10 11 12]]\n",
      "The elements in the array at indices [[0, 1, 2], [2, 1, 0]] are: \n",
      " [3 6 9]\n",
      "---\n",
      "[3 6 9]\n",
      "b[0] = 100\n",
      "a =  [[ 1  2  3  4]\n",
      " [ 5  6  7  8]\n",
      " [ 9 10 11 12]]\n",
      "b =  [100   6   9]\n",
      "---\n",
      "More array indxing examples: \n",
      "b =  [2 2]\n",
      "b =  [2, 2]\n",
      "---\n",
      "Using array indexing to modify an element from each row in a matrix: \n",
      "[[   1 -100    3    4]\n",
      " [-100    6    7    8]\n",
      " [   9 -100   11   12]]\n"
     ]
    }
   ],
   "source": [
    "a = np.array(np.arange(0, 6, 1))\n",
    "indices = [0, 2, 4] \n",
    "b = a[indices] # this will get the elements from the indices 0, 2, 4 from the array a\n",
    "print('original array: \\n', a)\n",
    "print('The elements in a from the indices', indices, 'are: \\n', b)\n",
    "print('---')\n",
    "\n",
    "a = np.array([[1,2,3,4], [5,6,7,8], [9,10,11,12]])\n",
    "indices = [[0, 1, 2], [2, 1, 0]] # this will get the elements from the indices (0, 2), (1, 1) and (2, 0) from the array a\n",
    "b = a[tuple(indices)]  # b will be [3, 6, 9]\n",
    "print('original array: \\n', a)\n",
    "print('The elements in the array at indices', indices, 'are: \\n', b)\n",
    "\n",
    "print('---')\n",
    "# modifying this array, won't modify the original array\n",
    "print(b)\n",
    "b[0] = 100\n",
    "print('b[0] = 100')\n",
    "print('a = ', a)\n",
    "print('b = ', b)\n",
    "\n",
    "print('---')\n",
    "print('More array indxing examples: ')\n",
    "# with array indexing you can reuse the same index from the original array\n",
    "b = a[[0, 0], [1, 1]]\n",
    "print('b = ', b)\n",
    "#  equivalent to \n",
    "b = [a[0, 1], a[0, 1]]\n",
    "print('b = ', b)\n",
    "\n",
    "print('---')\n",
    "print('Using array indexing to modify an element from each row in a matrix: ')\n",
    "# modifing an element from each row in a matrix\n",
    "ind = np.array([1, 0, 1])\n",
    "a[np.arange(3), ind] = -100\n",
    "print(a)\n",
    "\n",
    "\n"
   ]
  },
  {
   "cell_type": "markdown",
   "metadata": {
    "id": "79PT3GxRbcBw"
   },
   "source": [
    "Array indexing can be mixed with slicing. When using slicing the resulting array will have the same rank as the original array, while when using array indexing you will get an array with a lower rank than the original array."
   ]
  },
  {
   "cell_type": "code",
   "execution_count": 8,
   "metadata": {
    "id": "BoXijGYybcBx"
   },
   "outputs": [
    {
     "name": "stdout",
     "output_type": "stream",
     "text": [
      "Last row obtained with array indexing:\n",
      " [ 9 10 11 12] has shape: (4,)\n",
      "Last row obtained with array indexing:\n",
      " [[ 9 10 11 12]] has shape: (1, 4)\n"
     ]
    }
   ],
   "source": [
    "a = np.array([[1,2,3,4], [5,6,7,8], [9,10,11,12]])\n",
    "last_row_indexing = a[-1, :]\n",
    "last_row_slicing = a[2:3, :]\n",
    "print('Last row obtained with array indexing:\\n', \n",
    "      last_row_indexing, 'has shape:', last_row_indexing.shape)\n",
    "print('Last row obtained with array indexing:\\n', \n",
    "      last_row_slicing, 'has shape:', last_row_slicing.shape)"
   ]
  },
  {
   "cell_type": "markdown",
   "metadata": {
    "id": "7ZWwEoJVbcB1"
   },
   "source": [
    "*numpy* also allows you to use boolean array indexing, in which an array of booleans is used as a mask to select arbitrary elements in the array."
   ]
  },
  {
   "cell_type": "code",
   "execution_count": 9,
   "metadata": {
    "colab": {
     "base_uri": "https://localhost:8080/"
    },
    "id": "Nf3aqLIGbcB1",
    "outputId": "ffc7df67-6716-4a11-b02b-4d906fc9e1ef"
   },
   "outputs": [
    {
     "name": "stdout",
     "output_type": "stream",
     "text": [
      "a>12:\n",
      " [False False  True  True]\n",
      "The numbers larger than 12 in a are:\n",
      " [13 14]\n"
     ]
    }
   ],
   "source": [
    "a = np.array([11, 12, 13, 14])\n",
    "indices = (a > 12)\n",
    "# a > 12 returns an array of boolean of the same size as a;\n",
    "# an element in this array is True is the element stored in the same position in a is larger than 12\n",
    "\n",
    "print('a>12:\\n', indices)\n",
    "print('The numbers larger than 12 in a are:\\n', a[indices])"
   ]
  },
  {
   "cell_type": "markdown",
   "metadata": {
    "id": "oOjvZ7CnbcB4"
   },
   "source": [
    "## array operations\n",
    "*numpy* provides functions and operator overload for various arithmetical operations on the arrays, such addition, subtraction, multiplication, dot products etc.\n",
    "\n",
    "\n",
    "*Attention!!* **np.multiply** performs elementwise multiplication. If you want to perform matrix multiplication, you should use the **np.dot** function *!!*"
   ]
  },
  {
   "cell_type": "code",
   "execution_count": 10,
   "metadata": {
    "id": "uAczKHPXbcB5",
    "scrolled": true
   },
   "outputs": [
    {
     "name": "stdout",
     "output_type": "stream",
     "text": [
      "a is:  [[1 2]\n",
      " [3 4]]\n",
      "b is:  [[11 12]\n",
      " [13 14]]\n",
      "a+b is: \n",
      " [[12 14]\n",
      " [16 18]]\n",
      "a+b is: \n",
      " [[12 14]\n",
      " [16 18]]\n",
      "a-b is: \n",
      " [[-10 -10]\n",
      " [-10 -10]]\n",
      "a-b is: \n",
      " [[-10 -10]\n",
      " [-10 -10]]\n",
      "The maximum element in a is : 4\n",
      "The position of this element in a is : 3\n",
      "|a-b| is: \n",
      " [[10 10]\n",
      " [10 10]]\n",
      "a*b (element wise) is: \n",
      " [[11 24]\n",
      " [39 56]]\n",
      "a*b (element wise) is: \n",
      " [[11 24]\n",
      " [39 56]]\n",
      "Dot product v x w is:\n",
      " 330\n",
      "Dot product v x w is:\n",
      " 330\n",
      "Dot product a x v (matrix x vector) is:\n",
      " [ 50 110]\n",
      "Dot product a x b (matrix x matrix) is:\n",
      " [[37 40]\n",
      " [85 92]]\n"
     ]
    }
   ],
   "source": [
    "a = np.array([[1, 2], \n",
    "             [3, 4]])\n",
    "b = np.array([[11, 12],\n",
    "             [13, 14]])\n",
    "\n",
    "print('a is: ', a)\n",
    "print('b is: ', b)\n",
    "# elementwise operations\n",
    "print('a+b is: \\n', a + b)\n",
    "print('a+b is: \\n', np.add(a, b))\n",
    "\n",
    "print('a-b is: \\n', a - b)\n",
    "print('a-b is: \\n', np.subtract(a, b))\n",
    "\n",
    "print('The maximum element in a is :', np.amax(a))\n",
    "print('The position of this element in a is :', np.argmax(a)) # by defualt it returns the max in the flattened array\n",
    "\n",
    "print('|a-b| is: \\n', np.abs(a - b))\n",
    "\n",
    "print('a*b (element wise) is: \\n', a*b)\n",
    "print('a*b (element wise) is: \\n', np.multiply(a, b))\n",
    "\n",
    "v = np.array([10, 20])\n",
    "w = np.array([11, 11])\n",
    "print('Dot product v x w is:\\n', v.dot(w))\n",
    "print('Dot product v x w is:\\n', np.dot(v, w))\n",
    "\n",
    "print('Dot product a x v (matrix x vector) is:\\n', a.dot(v))\n",
    "\n",
    "print('Dot product a x b (matrix x matrix) is:\\n', a.dot(b))"
   ]
  },
  {
   "cell_type": "markdown",
   "metadata": {
    "id": "-NAue72gbcB9"
   },
   "source": [
    "## numpy axes\n",
    "\n",
    "Another concept that is perhaps confusing for beginners in numpy is the concept of axes. As you'll see several mathematical functions (**np.sum**, **np.mean**, **np.min** etc.) require you to specify the axis along the operation should be applied.\n",
    "\n",
    "Just as the cartesian coordinate system, numpy arrays have axes. For example, for a 2D array, the rows are the first axis (0 axis), and the columns are the second axis (axis 1).\n",
    "\n"
   ]
  },
  {
   "cell_type": "code",
   "execution_count": 11,
   "metadata": {
    "colab": {
     "base_uri": "https://localhost:8080/",
     "height": 392
    },
    "id": "T8zgLsS1NdyK",
    "outputId": "4b4407f8-18b0-4f18-bb95-c6d7973442de"
   },
   "outputs": [
    {
     "data": {
      "text/plain": [
       "<matplotlib.image.AxesImage at 0x7f1d312e7430>"
      ]
     },
     "execution_count": 11,
     "metadata": {},
     "output_type": "execute_result"
    },
    {
     "data": {
      "image/png": "[encoded data removed]",
      "text/plain": [
       "<Figure size 542x429 with 1 Axes>"
      ]
     },
     "metadata": {
      "needs_background": "light"
     },
     "output_type": "display_data"
    }
   ],
   "source": [
    "img_axes = cv2.imread('axes.jpg')\n",
    "dpi = plt.rcParams['figure.dpi']\n",
    "\n",
    "height, width, depth = img_axes.shape\n",
    "figsize = width / float(dpi), height / float(dpi)\n",
    "plt.figure(figsize=figsize)\n",
    "plt.imshow(img_axes)"
   ]
  },
  {
   "cell_type": "markdown",
   "metadata": {
    "id": "HsqV_7u_NeEI"
   },
   "source": [
    "Is is important to understand, for each operation, what the axis element controls.\n",
    "\n",
    "For the common matemathical operations, which for example aggregate your data, the axis parameter controls which axis will be collapsed.\n",
    "So, for example, if you have an array a, and you perform the operation np.sum(a, axis = 0), the rows will be collaped and this will sum down the columns. (It will not sum the rows).\n"
   ]
  },
  {
   "cell_type": "code",
   "execution_count": 12,
   "metadata": {
    "colab": {
     "base_uri": "https://localhost:8080/",
     "height": 408
    },
    "id": "ACbppwrQRUuD",
    "outputId": "47961bad-e603-4c0d-f8bd-e2425196c537"
   },
   "outputs": [
    {
     "data": {
      "text/plain": [
       "<matplotlib.image.AxesImage at 0x7f1d309eb820>"
      ]
     },
     "execution_count": 12,
     "metadata": {},
     "output_type": "execute_result"
    },
    {
     "data": {
      "image/png": "[encoded data removed]",
      "text/plain": [
       "<Figure size 810x450 with 1 Axes>"
      ]
     },
     "metadata": {
      "needs_background": "light"
     },
     "output_type": "display_data"
    }
   ],
   "source": [
    "img_sum0 = cv2.imread('sum0.jpg')\n",
    "dpi = plt.rcParams['figure.dpi']\n",
    "\n",
    "height, width, depth = img_sum0.shape\n",
    "figsize = width / float(dpi), height / float(dpi)\n",
    "plt.figure(figsize=figsize)\n",
    "plt.imshow(img_sum0)"
   ]
  },
  {
   "cell_type": "markdown",
   "metadata": {
    "id": "zwcAeZ5bRU_l"
   },
   "source": [
    "Similarly, if you have an array a, and you perform the operation np.sum(a, axis = 1), the columns will be collaped and this will sum down the rows. (It will not sum the columns).\n"
   ]
  },
  {
   "cell_type": "code",
   "execution_count": 13,
   "metadata": {
    "colab": {
     "base_uri": "https://localhost:8080/",
     "height": 351
    },
    "id": "OgOt5TWoRtX0",
    "outputId": "e265946b-a926-407f-aacc-f12ebaa07ebf"
   },
   "outputs": [
    {
     "data": {
      "text/plain": [
       "<matplotlib.image.AxesImage at 0x7f1d309688e0>"
      ]
     },
     "execution_count": 13,
     "metadata": {},
     "output_type": "execute_result"
    },
    {
     "data": {
      "image/png": "[encoded data removed]",
      "text/plain": [
       "<Figure size 855x374 with 1 Axes>"
      ]
     },
     "metadata": {
      "needs_background": "light"
     },
     "output_type": "display_data"
    }
   ],
   "source": [
    "img_sum1 = cv2.imread('sum1.jpg')\n",
    "dpi = plt.rcParams['figure.dpi']\n",
    "\n",
    "height, width, depth = img_sum1.shape\n",
    "figsize = width / float(dpi), height / float(dpi)\n",
    "plt.figure(figsize=figsize)\n",
    "plt.imshow(img_sum1)"
   ]
  },
  {
   "cell_type": "markdown",
   "metadata": {
    "id": "CLmD3M9RRtiy"
   },
   "source": [
    "Another example, for the concatentaion operation, the axis operator specifies the axis along which to stack the arrays. \n",
    "\n",
    "If we specify the axis = 0 for concatenation, the arrays will be stacked along the rows (they will be concatenated vertically).\n"
   ]
  },
  {
   "cell_type": "code",
   "execution_count": 14,
   "metadata": {
    "colab": {
     "base_uri": "https://localhost:8080/",
     "height": 496
    },
    "id": "JWt8WHmlR6oD",
    "outputId": "6e0954a9-27fa-4502-ac73-0cd9d1d0fd83"
   },
   "outputs": [
    {
     "data": {
      "text/plain": [
       "<matplotlib.image.AxesImage at 0x7f1d308d9b80>"
      ]
     },
     "execution_count": 14,
     "metadata": {},
     "output_type": "execute_result"
    },
    {
     "data": {
      "image/png": "[encoded data removed]",
      "text/plain": [
       "<Figure size 963x566 with 1 Axes>"
      ]
     },
     "metadata": {
      "needs_background": "light"
     },
     "output_type": "display_data"
    }
   ],
   "source": [
    "img_concat0 = cv2.imread('concat0.jpg')\n",
    "dpi = plt.rcParams['figure.dpi']\n",
    "\n",
    "height, width, depth = img_concat0.shape\n",
    "figsize = width / float(dpi), height / float(dpi)\n",
    "plt.figure(figsize=figsize)\n",
    "plt.imshow(img_concat0)"
   ]
  },
  {
   "cell_type": "markdown",
   "metadata": {
    "id": "3k7OhYtnR60C"
   },
   "source": [
    "If we specify the axis = 1 for concatenation, the arrays will be stacked along the columns (they will be concatenated horizontally).\n",
    "\n"
   ]
  },
  {
   "cell_type": "code",
   "execution_count": 15,
   "metadata": {
    "colab": {
     "base_uri": "https://localhost:8080/",
     "height": 490
    },
    "id": "aekSOxn2SM_S",
    "outputId": "f427beca-9f8a-4fb8-ce8a-74593db574f3"
   },
   "outputs": [
    {
     "data": {
      "text/plain": [
       "<matplotlib.image.AxesImage at 0x7f1d30839af0>"
      ]
     },
     "execution_count": 15,
     "metadata": {},
     "output_type": "execute_result"
    },
    {
     "data": {
      "image/png": "[encoded data removed]",
      "text/plain": [
       "<Figure size 979x557 with 1 Axes>"
      ]
     },
     "metadata": {
      "needs_background": "light"
     },
     "output_type": "display_data"
    }
   ],
   "source": [
    "img_concat1 = cv2.imread('concat1.jpg')\n",
    "dpi = plt.rcParams['figure.dpi']\n",
    "\n",
    "height, width, depth = img_concat1.shape\n",
    "figsize = width / float(dpi), height / float(dpi)\n",
    "plt.figure(figsize=figsize)\n",
    "plt.imshow(img_concat1)"
   ]
  },
  {
   "cell_type": "code",
   "execution_count": 16,
   "metadata": {
    "colab": {
     "base_uri": "https://localhost:8080/"
    },
    "id": "kkmxsjAlbcB_",
    "outputId": "af7d8fdc-9926-4c86-f314-5231fddb0c03"
   },
   "outputs": [
    {
     "name": "stdout",
     "output_type": "stream",
     "text": [
      "The sum of each column is: \n",
      "  [ 6  8 10 12]\n",
      "The sum of each row is: \n",
      "  [10 26]\n",
      "Concatenate verically: \n",
      " [[1 2 3 4]\n",
      " [5 6 7 8]\n",
      " [1 1 1 1]\n",
      " [2 2 2 2]]\n",
      "Concatenate horizontally: \n",
      " [[1 2 3 4 1 1 1 1]\n",
      " [5 6 7 8 2 2 2 2]]\n"
     ]
    }
   ],
   "source": [
    "a = np.array([[1, 2, 3, 4], [5, 6, 7, 8]])\n",
    "\n",
    "print('The sum of each column is: \\n ', np.sum(a, axis = 0))\n",
    "\n",
    "print('The sum of each row is: \\n ', np.sum(a, axis = 1))\n",
    "\n",
    "b = np.array([[1, 1, 1, 1], [2, 2, 2, 2]])\n",
    "\n",
    "print('Concatenate verically: \\n', np.concatenate([a, b], axis = 0))\n",
    "\n",
    "print('Concatenate horizontally: \\n', np.concatenate([a, b], axis = 1))"
   ]
  },
  {
   "cell_type": "code",
   "execution_count": 17,
   "metadata": {
    "id": "6tz0L_JfbcCC"
   },
   "outputs": [
    {
     "name": "stdout",
     "output_type": "stream",
     "text": [
      "[0 0 0 1 1 1]\n",
      "[[0 0 0]\n",
      " [1 1 1]]\n"
     ]
    }
   ],
   "source": [
    "# example with 1D arrays\n",
    "a = np.array([0, 0, 0])\n",
    "b = np.array([1, 1, 1])\n",
    "\n",
    "print(np.concatenate([a, b], axis=0)) # attention! 1D arrays have only one axis\n",
    "\n",
    "a = a.reshape((1, 3))\n",
    "b = b[np.newaxis, :]\n",
    "\n",
    "print(np.concatenate([a, b], axis=0))\n",
    "\n",
    "# Good practice: reshape your arrays to (1, dim): a = a.reshape((1, 3))"
   ]
  },
  {
   "cell_type": "markdown",
   "metadata": {
    "id": "SzQLX0XNbcCF"
   },
   "source": [
    "## Vectorization\n",
    "\n",
    "\"<i>Vectorization is the art of getting rid of for loops in your code.</i>\" (Andrew Ng)\n",
    "\n",
    "numpy provides a series of functions that allow the programmer to perform mathematical computations on the elements of the array without having to explicitly loop over the array elements; these function are much more efficient as python delegates these tasks to compiled and optimized C code.\n",
    " \n",
    "A formal definiton of vectorization is:\n",
    "\"In the context of high-level languages like Python, Matlab, and R, the term vectorization describes the use of optimized, pre-compiled code written in a low-level language (e.g. C) to perform mathematical operations over a sequence of data. This is done in place of an explicit iteration written in the native language code.\" (check this tutorial for details: https://www.pythonlikeyoumeanit.com/Module3_IntroducingNumpy/VectorizedOperations.html)\n",
    "\n",
    "Using for loops to access array elements (when dealing with large data) is highly inefficient, as demonstrated in the examples below.\n",
    "Therefore, especially for this course, when we'll deal with a lot of training data and large neural network architectures, you should always use vectorization when writing your code. Otherwise, it will take a very very very :) long time to get your model to perform a single iteration over your training data."
   ]
  },
  {
   "cell_type": "code",
   "execution_count": null,
   "metadata": {
    "colab": {
     "base_uri": "https://localhost:8080/",
     "height": 365
    },
    "id": "EuBIkeVlbcCF",
    "outputId": "aa01b8c3-9858-46b8-f7d4-ff1aa7a9e582"
   },
   "outputs": [
    {
     "name": "stdout",
     "output_type": "stream",
     "text": [
      "250285.95562820975\n",
      "250285.9556282076\n",
      "Time to compute dot product using loops:  0.2704432010650635 milliseconds\n",
      "Time to compute dot product using vectorization:  0.008803606033325195 milliseconds\n",
      "Speedup  30.71959377115775\n"
     ]
    }
   ],
   "source": [
    "import numpy as np\n",
    "import time\n",
    "a1 = np.random.rand(1000000)\n",
    "a2 = np.random.rand(1000000)\n",
    "\n",
    "t1 = time.time()\n",
    "dp_vectorized = a1.dot(a2)\n",
    "time_vectorized = time.time() - t1\n",
    "\n",
    "t1 = time.time()\n",
    "dp_loops = 0\n",
    "for i in range(0, a1.shape[0]):\n",
    "    dp_loops += a1[i]*a2[i]\n",
    "time_loops = time.time() - t1\n",
    "\n",
    "print(dp_vectorized)\n",
    "print(dp_loops)\n",
    "\n",
    "print('Time to compute dot product using loops: ', time_loops, 'milliseconds')\n",
    "print('Time to compute dot product using vectorization: ', time_vectorized, 'milliseconds')\n",
    "print('Speedup ', time_loops/time_vectorized)\n",
    "\n",
    "\n",
    "arr_size = []\n",
    "arr_time_vectorized = []\n",
    "arr_time_loops = []\n",
    "\n",
    "\n",
    "\n",
    "for sz in range(100, 1000000, 10000):\n",
    "    t1 = time.time()\n",
    "    a1 = np.random.rand(sz)\n",
    "    a2 = np.random.rand(sz)\n",
    "    dp_vectorized = a1.dot(a2)\n",
    "    time_vectorized = time.time() - t1\n",
    "\n",
    "    t1 = time.time()\n",
    "    dp_loops = 0\n",
    "    for i in range(0, a1.shape[0]):\n",
    "        dp_loops += a1[i]*a2[i]\n",
    "    time_loops = time.time() - t1\n",
    "    arr_size.append(sz)\n",
    "\n",
    "    arr_time_vectorized.append(time_vectorized)\n",
    "    arr_time_loops.append(time_loops)\n",
    "\n",
    "\n",
    "plt.plot(arr_size, arr_time_vectorized, label='vectorized')\n",
    "plt.plot(arr_size, arr_time_loops, label='using loops')\n",
    "plt.legend()\n",
    "plt.xlabel('array size')\n",
    "plt.ylabel('execution time (ms)')\n",
    "plt.show()"
   ]
  },
  {
   "cell_type": "markdown",
   "metadata": {
    "id": "W9f49myBbcCH"
   },
   "source": [
    "## Broadcasting\n",
    "\n",
    "Broadcasting is a *numpy* features that allows us to perfom operations on arrays with different shapes; frequently we many need to work with arrays with different size and apply some operations on these arrays. With broadcasting, if the arrays don't have the same size, the smaller size array is \"broadcast\" to match the shape of the larger array. This also helps with vectorizing array operations.\n",
    "\n",
    "To be able to broadcast, the size of the arrays in the trailing axes must be the same, or one of these dimensions must be 1.\n",
    "If the arrays don't have the same rank, we add 1 dimensions to the left (prepend the shape property with ones), until the arrays have the same rank.\n",
    "\n",
    "Always, the result of broadcasting is the maximum size along each dimension from the input arrays.\n",
    "\n",
    "You can check this tutorial for further information: http://scipy.github.io/old-wiki/pages/EricsBroadcastingDoc "
   ]
  },
  {
   "cell_type": "code",
   "execution_count": null,
   "metadata": {
    "colab": {
     "base_uri": "https://localhost:8080/"
    },
    "id": "6uhNOA3ebcCI",
    "outputId": "07a6f8e0-6cfb-4ef7-8996-5065006b7901"
   },
   "outputs": [],
   "source": [
    "a = np.array([[1, 2, 3], [4, 5, 6], [7, 8, 9]]) # shape: (3, 3)\n",
    "b = np.array([0, 1, 2]) # (1, 3)\n",
    "             \n",
    "x1 = np.array([[1, 2, 3]]) # shape: (1, 3)\n",
    "x2 = np.array([1, 2, 3]).reshape((3, 1)) # shape: (3, 1)\n",
    "\n",
    "print(x1)\n",
    "print(x2)\n",
    "print(x1+x2)\n",
    "#np.array([[1], [2], [3]) -> (3,) -> (3, 1)\n",
    "# [1, 2, 1]\n",
    "# [2, 4, 2]\n",
    "# [1, 2, 1]\n",
    "# add the two vectors using broadcasting\n",
    "s = a + b\n",
    "print(s)\n",
    "\n",
    "# the code snippet above is equvalent to the code below (but without making unnecessary copies)\n",
    "print(b.shape)\n",
    "b_expanded = np.tile(b, (3, 1)) # this stacks 3 copies of b -> (3, 3)\n",
    "print(b_expanded.shape)\n",
    "print(b_expanded)\n",
    "s = a + b_expanded\n",
    "\n",
    "# add a vector to each complun of a matrix\n",
    "a = np.array([[1, 2, 3], [4, 5, 6]])\n",
    "b = np.array([0, 2])\n",
    "# transpose the matrix a (a.T) such that is has shape (3, 2), the array b has shape (2,)\n",
    "# they can be broadcasted together and then we can transpose the result\n",
    "print((a.T+b).T)"
   ]
  },
  {
   "cell_type": "code",
   "execution_count": null,
   "metadata": {
    "colab": {
     "base_uri": "https://localhost:8080/"
    },
    "id": "UPbTFq9EbcCK",
    "outputId": "f139fcd4-9ba1-4fff-de55-8ac448c51596"
   },
   "outputs": [],
   "source": [
    "a = np.array([0, 1, 2, 3])\n",
    "b = np.array([4, 5, 6])\n",
    "print(a.shape)\n",
    "print(b.shape)\n",
    "\n",
    "try:\n",
    "    print(a+b)\n",
    "except ValueError:\n",
    "    print('Unable to broadcast arrays with shapes ', a.shape, b.shape)\n",
    "    \n",
    "a = a.reshape((4, 1))\n",
    "# or you might see this syntax: a = a[:, np.newaxis]\n",
    "print(a.shape)\n",
    "print(b.shape)\n",
    "print(a+b)\n",
    "print((a+b).shape)"
   ]
  },
  {
   "cell_type": "markdown",
   "metadata": {
    "id": "aqKLvQwdbcCM"
   },
   "source": [
    "## Simple *numpy* exercise\n",
    "\n",
    "I am sure that you were already familiar with all the concepts presented above, but a short recap is always welcomed. \n",
    "\n",
    "Now let's do a very simple exercise with *numpy* arrays.\n",
    "\n",
    "In a (4, 7) *numpy* array we store the statistics about coronavirus cases in the last week in our country.\n",
    "The rows specify the number of tests with a positive test result, the number of tests with a negative test result (first testing for the subject), the number of inconclusive tests and the number of fatalities, respectively. \n",
    "The columns specify the day of the week for which the statistics were reported.\n",
    "    \n",
    "Compute the following (without using any explicity for loop):\n",
    "- the total number of tests performed each day\n",
    "- the percentage of daily positive tests and the percentage of daily inconclusive tests (as an array with 2 rows and 7 columns)\n",
    "- the day in which the maximum number of deaths occured\n",
    "- the sum of daily deaths and positive test results for each working day (the result with be an array with 5 elements)\n",
    "- the number of positive tests results, the number of tests with a negative test result, the number of inconclusive tests and the number of fatalities for the week as a (1, 4) array\n"
   ]
  },
  {
   "cell_type": "code",
   "execution_count": null,
   "metadata": {
    "id": "hOXanhnZbcCN"
   },
   "outputs": [],
   "source": [
    "days = ['Monday', 'Tuesday', 'Wednesday', 'Thursday', 'Friday', 'Saturday', 'Sunday']\n",
    "statistics = np.array([\n",
    "                      [1200, 1234, 1580, 1468, 1300, 1367, 800], # positive test results\n",
    "                      [24356, 24136, 22656, 22111, 22346, 18900, 14000], # negative test results\n",
    "                      [134, 100, 491, 500, 301, 200, 300],  # inconclusive tests\n",
    "                      [23, 14, 15, 16, 7, 5, 1]]) # number of fatalities\n",
    "\n",
    "all_tests = statistics[:-1].sum(axis=0)\n",
    "print(f\"The total number of tests performed each day is: {all_tests}\")\n",
    "percentage = np.divide(statistics[[0, 2]], all_tests) * 100\n",
    "print(f\"The percentage of daily positive tests and the percentage of daily inconclusive tests: {percentage}\")\n",
    "print(f\"The day in which the maximum number of deaths occured is: {days[statistics[3].argmax()]}\")\n",
    "print(f\"The sum of daily deaths and positive test results for each working day is: \"\n",
    "      f\"{(statistics[0] + statistics[3])[:5]}\")\n",
    "print(\n",
    "    f\"The number of positive tests results, the number of tests with a negative test result, \"\n",
    "    f\"the number of inconclusive tests and the number of fatalities for the week: {statistics.sum(axis=1)}\")\n",
    "\n"
   ]
  },
  {
   "cell_type": "markdown",
   "metadata": {
    "id": "-AUWvYBvbcCQ"
   },
   "source": [
    "Expected output:\n",
    "\n",
    "The total number of tests performed each day is:\n",
    "[25690 25470 24727 24079 23947 20467 15100]\n",
    "\n",
    "The percentage of daily positive tests and the percentage of daily inconclusive tests:\n",
    "[[4.67107824 4.84491559 6.38977636 6.0965987  5.42865495 6.67904432\n",
    "  5.29801325]\n",
    " [0.52160374 0.39261877 1.98568367 2.07649819 1.25694241 0.97718278\n",
    "  1.98675497]]\n",
    "\n",
    "The day in which the maximum number of deaths occured is:\n",
    "Monday\n",
    "\n",
    "The sum of daily deaths and positive test results for each working day is: \n",
    "[[1223 1248 1595 1484 1307]]\n",
    "\n",
    "The number of positive tests results, the number of tests with a negative test result, the number of inconclusive tests and the number of fatalities for the week: \n",
    "[[  8949 148505   2026     81]]"
   ]
  },
  {
   "cell_type": "markdown",
   "metadata": {
    "id": "-wdtdaa4bcCR"
   },
   "source": [
    "# Plotting\n",
    "\n",
    "During this course we'll frequently create plots to show the distribution of some data, to show the performance of the developed models etc. We'll use the *matplotlib* library for this.\n",
    "\n",
    "Using this library is straightforward, and the function that we'll use the most is plot(). You can check more about this library in the documentation: https://matplotlib.org/3.3.1/contents.html .\n",
    "\n",
    "For example, to display a sine wave we could do the following:"
   ]
  },
  {
   "cell_type": "code",
   "execution_count": null,
   "metadata": {
    "colab": {
     "base_uri": "https://localhost:8080/",
     "height": 281
    },
    "id": "eXAMH1P3bcCS",
    "outputId": "e44f92cd-2828-4c1f-9c5f-c358852e297b"
   },
   "outputs": [],
   "source": [
    "import numpy as np\n",
    "import matplotlib.pyplot as plt\n",
    "\n",
    "# compute the x range\n",
    "x = np.arange(0, 5 * np.pi, 0.1)\n",
    "y = np.sin(x)\n",
    "\n",
    "plt.plot(x, y)\n",
    "\n",
    "# set the title and the name of the x and y axes\n",
    "plt.title('Sine function')\n",
    "plt.ylabel('sine value')\n",
    "\n",
    "# show the figure\n",
    "plt.show()"
   ]
  },
  {
   "cell_type": "markdown",
   "metadata": {
    "id": "_0MsNWt7bcCV"
   },
   "source": [
    "We can plot different data in the same plot using subplot. Below is an example:"
   ]
  },
  {
   "cell_type": "code",
   "execution_count": null,
   "metadata": {
    "colab": {
     "base_uri": "https://localhost:8080/"
    },
    "id": "oPTeVFHjbcCV",
    "outputId": "3714e661-12da-44bc-ddf3-1fbaadf53810"
   },
   "outputs": [],
   "source": [
    "# compute the x range \n",
    "x = np.arange(0, 2 * np.pi, 0.1)\n",
    "y_sin = np.sin(x)\n",
    "y_cos = np.cos(x)\n",
    "\n",
    "# subplot with 1 row and 2 columns\n",
    "# the first subplot is the active one\n",
    "plt.subplot(1, 2, 1)\n",
    "\n",
    "# Make the first plot\n",
    "plt.plot(x, y_sin)\n",
    "plt.grid(True)\n",
    "plt.title('Sine')\n",
    "\n",
    "# activate the second plot\n",
    "plt.subplot(1, 2, 2)\n",
    "plt.plot(x, y_cos)\n",
    "plt.title('Cosine')\n",
    "\n",
    "# adjust the spacing between the plots\n",
    "plt.subplots_adjust(wspace=0.5)\n",
    "plt.show()"
   ]
  },
  {
   "cell_type": "markdown",
   "metadata": {
    "id": "C_Z8V69RbcCY"
   },
   "source": [
    "You might be familiar from the Artificial Intelligence class with some of the activation functions used in neural networks: ReLU, tahh, sigmoid and their friends. In the image below you have the common activation functions depicted as dance moves.\n",
    "\n",
    "\n",
    "\n",
    "\n",
    "Pick your favourite three \"dance moves\" and plot them with matplotlib using subplots. "
   ]
  },
  {
   "cell_type": "code",
   "execution_count": null,
   "metadata": {
    "colab": {
     "base_uri": "https://localhost:8080/",
     "height": 884
    },
    "id": "MtZW0fQ7Y_yD",
    "outputId": "de9352d3-d12b-4532-b09a-48fb1d04a893"
   },
   "outputs": [],
   "source": [
    "\n",
    "dance_moves_img = cv2.imread('dance_moves.png')\n",
    "dpi = plt.rcParams['figure.dpi']\n",
    "\n",
    "height, width, depth = dance_moves_img.shape\n",
    "figsize = width / float(dpi), height / float(dpi)\n",
    "plt.figure(figsize=figsize)\n",
    "plt.imshow(dance_moves_img)"
   ]
  },
  {
   "cell_type": "code",
   "execution_count": null,
   "metadata": {
    "id": "lhg7pPfcbcCY"
   },
   "outputs": [],
   "source": [
    "plt.subplot(1, 3, 1)\n",
    "\n",
    "x = np.arange(-10, 10, 0.1)\n",
    "y = np.log(1+np.exp(x))\n",
    "plt.plot(x, y)\n",
    "plt.grid(True)\n",
    "plt.title('softplus')\n",
    "\n",
    "plt.subplot(1, 3, 2)\n",
    "y = x/(1+np.abs(x))\n",
    "plt.plot(x, y)\n",
    "plt.grid(True)\n",
    "plt.title('softsign')\n",
    "\n",
    "plt.subplot(1, 3, 3)\n",
    "x = np.arange(-6, 2, 0.1)\n",
    "y = x/(1+np.exp(-x))\n",
    "plt.plot(x, y)\n",
    "plt.grid(True)\n",
    "plt.title('swish')\n",
    "\n",
    "# adjust the spacing between the plots\n",
    "plt.subplots_adjust(wspace=0.5)\n",
    "plt.show()\n"
   ]
  },
  {
   "cell_type": "markdown",
   "metadata": {
    "id": "PpQg1ynibcCb"
   },
   "source": [
    "# Image manipulation"
   ]
  },
  {
   "cell_type": "markdown",
   "metadata": {
    "id": "GxbPzEq1bcCb"
   },
   "source": [
    "Computer vision is about images (or image sequences), so you'll definetely need some image manipulation skills.\n",
    "For now, we'll just need some functions to read and write images. \n",
    "\n",
    "We'll use the *opencv* library to work images; opencv is an open-source, cross-platform computer vision library and it support a variety of programming languages (C++, Python, Java).\n",
    "\n",
    "The python version of opencv is very simple and it allows you to express your brilliant ideas in fewer line of codes, while maintaining a hight readability of the code."
   ]
  },
  {
   "cell_type": "markdown",
   "metadata": {
    "id": "3oJy3ch4bcCb"
   },
   "source": [
    "### Reading, writing and displaying an image\n",
    "\n",
    "To read an image you'll use the <i>imread</i> function from the opencv library. To display an image you can use the <i>imshow</i> function from the matplolib library . \n",
    "Pretty simple, isn't it? "
   ]
  },
  {
   "cell_type": "code",
   "execution_count": null,
   "metadata": {
    "colab": {
     "base_uri": "https://localhost:8080/",
     "height": 286
    },
    "id": "EtIYZb-GbcCc",
    "outputId": "6fb8e94e-40b7-476c-b952-ecac7bc3ddb3"
   },
   "outputs": [],
   "source": [
    "img = cv2.imread('cute_cat.jpg') # BGR , RGB\n",
    "# BGR -> RGB\n",
    "img = cv2.cvtColor(img, cv2.COLOR_BGR2RGB) # opencv uses BGR channel ordering, while matplotlib uses RGB channel ordering\n",
    "\n",
    "plt.imshow(img)\n"
   ]
  },
  {
   "cell_type": "markdown",
   "metadata": {
    "id": "JQ9irwp-bcCf"
   },
   "source": [
    "An image is esentially just a numpy array. The type of the elements stored in this array is np.uint8, so each element ranges from 0 (corresponding to the black color in grayscale images) and 255 (corresponding to the white color in grayscale images).\n",
    "\n",
    "To get the size of the image, we can use the <i>size</i> attribute."
   ]
  },
  {
   "cell_type": "code",
   "execution_count": null,
   "metadata": {
    "colab": {
     "base_uri": "https://localhost:8080/"
    },
    "id": "i4D3SPBVbcCf",
    "outputId": "ae5e3c47-faab-4b47-ceeb-074d62182641"
   },
   "outputs": [],
   "source": [
    "img_height, img_width, img_channels = img.shape[0], img.shape[1], img.shape[2]\n",
    "print('The image resolution is ', img_width, 'x', img_height)\n",
    "print('The number of channels is ', img_channels)"
   ]
  },
  {
   "cell_type": "markdown",
   "metadata": {
    "id": "kWKRZ93ZbcCh"
   },
   "source": [
    "You can use the function imresize to change the resolution of an image."
   ]
  },
  {
   "cell_type": "code",
   "execution_count": null,
   "metadata": {
    "colab": {
     "base_uri": "https://localhost:8080/",
     "height": 304
    },
    "id": "BVA2c1tCbcCi",
    "outputId": "0ffc4e30-ee0c-4408-d5be-6f4282df22e7"
   },
   "outputs": [],
   "source": [
    "# resize image to (120, 400) - breaks the aspect ratio\n",
    "img_resize_fixed =  cv2.resize(img, (120, 400))\n",
    "print('The shape of the resize image is:', img_resize_fixed.shape)\n",
    "plt.imshow(img_resize_fixed)\n"
   ]
  },
  {
   "cell_type": "code",
   "execution_count": null,
   "metadata": {
    "colab": {
     "base_uri": "https://localhost:8080/",
     "height": 303
    },
    "id": "8tdzM_NObcCm",
    "outputId": "d996c72c-bb43-48aa-f6fa-40d1ff9fe898"
   },
   "outputs": [],
   "source": [
    "# resize the image to w/4 x h/4 (keeps the aspect ratio)\n",
    "img_resize_prop = cv2.resize(img, (0, 0), fx=0.25, fy=0.25)\n",
    "print('The shape of the resize image is:', img_resize_prop.shape)\n",
    "plt.imshow(img_resize_prop)"
   ]
  },
  {
   "cell_type": "markdown",
   "metadata": {
    "id": "1wEdg80ZbcCq"
   },
   "source": [
    "A color image consists of 3 image channels (the red, green and blue channels).\n",
    "\n",
    "A grayscale image has a single channel. One way of converting a color image to grayscale is using the equation:\n",
    "\n",
    "Gray = 0.2126 R + 0.7152 G + 0.0722 B\n",
    "\n",
    ",where R, G and B are the red, green and blue channels of the input image."
   ]
  },
  {
   "cell_type": "code",
   "execution_count": null,
   "metadata": {
    "colab": {
     "base_uri": "https://localhost:8080/",
     "height": 286
    },
    "id": "UcNXJjBMbcCr",
    "outputId": "65c59397-888e-44c8-f254-4609423b7a9c"
   },
   "outputs": [],
   "source": [
    "img_gray = 0.2126*img_resize_prop[:,:,0] + 0.7152*img_resize_prop[:,:,1] + 0.0722*img_resize_prop[:,:,2]\n",
    "img_gray = img_gray.astype(np.uint8)\n",
    "plt.imshow(img_gray, cmap='gray', vmin=0, vmax=255) # use cmap='gray' (colormap) to display a grayscale image"
   ]
  },
  {
   "cell_type": "markdown",
   "metadata": {
    "id": "P7kaQ1-fbcCu"
   },
   "source": [
    "A histogram is graphical representation of the grayscale values (or color tones in the input image). From a histogram we can determine statistical properties of the image, such as the average brightess and the contrast of the image.\n"
   ]
  },
  {
   "cell_type": "code",
   "execution_count": null,
   "metadata": {
    "colab": {
     "base_uri": "https://localhost:8080/",
     "height": 576
    },
    "id": "xMsAMHzbbcCv",
    "outputId": "858ec1d2-2807-4548-918f-2608620b0261"
   },
   "outputs": [],
   "source": [
    "hist, bins = np.histogram(img_gray, bins=255)# [0-255], 256\n",
    "\n",
    "print('The histogram is:\\n', hist)\n",
    "\n",
    "plt.bar(np.arange(255), hist, color='cornflowerblue')\n",
    "plt.title('histogram of the grayscale image')"
   ]
  },
  {
   "cell_type": "markdown",
   "metadata": {
    "id": "9IXc6nQZbcCx"
   },
   "source": [
    "Plot the histograms of the red, blue and green channel of an image on the same plot. The histogram of the red channel should be displayed in red bars, the histogram of the blue channel should be displayed in blue bars and the histogram of the green channel should be displayed with green bars."
   ]
  },
  {
   "cell_type": "code",
   "execution_count": null,
   "metadata": {
    "id": "ogUQ-iwwbcCy"
   },
   "outputs": [],
   "source": [
    "hist_red, _ = np.histogram(img[:, :, 0], bins=255)\n",
    "hist_green, _ = np.histogram(img[:, :, 1], bins=255)\n",
    "hist_blue, _ = np.histogram(img[:, :, 2], bins=255)\n",
    "plt.bar(np.arange(255), hist_red, color='red', alpha=1/3)\n",
    "plt.bar(np.arange(255), hist_green, color='green', alpha=1/3)\n",
    "plt.bar(np.arange(255), hist_blue, color='blue', alpha=1/3)\n",
    "plt.title('histogram of the cat image')\n",
    "plt.show()"
   ]
  },
  {
   "cell_type": "markdown",
   "metadata": {
    "id": "fXjGH-SAbcC0"
   },
   "source": [
    "Add to each element in the grayscale image with a positive number and store the result in img_l1. \n",
    "What do you think is the effect of this operation? Display the image img_l1. Make sure that the result is in the range [0, 255]."
   ]
  },
  {
   "cell_type": "code",
   "execution_count": null,
   "metadata": {
    "id": "h-eCbiRxbcC1"
   },
   "outputs": [],
   "source": [
    "img_l1 = np.clip(img_gray.astype(\"uint16\")+50, 0, 255).astype(\"uint8\")\n",
    "plt.imshow(img_l1, cmap='gray', vmin=0, vmax=255)"
   ]
  },
  {
   "cell_type": "markdown",
   "metadata": {
    "id": "7sPkjORybcC4"
   },
   "source": [
    "Compute and display the histogram of img_l1.  What do you notice? How is this histogram different than the previous one?"
   ]
  },
  {
   "cell_type": "code",
   "execution_count": null,
   "metadata": {
    "id": "Q8Yz2b-cbcC4"
   },
   "outputs": [],
   "source": [
    "hist, bins = np.histogram(img_l1, bins=205)# [50-255], 206\n",
    "hist = np.concatenate((np.zeros(50, dtype=\"uint16\"), hist))\n",
    "hist[-1] = 0 # this is so the whole graph doesn't get skewed by the abnormally large value of 255\n",
    "plt.bar(np.arange(255), hist, color='cornflowerblue')\n",
    "plt.title('histogram of the grayscale image')"
   ]
  },
  {
   "cell_type": "markdown",
   "metadata": {
    "id": "EhqWqzUQbcC6"
   },
   "source": [
    "Now add to the grayscale image a negative number and store the result in img_l2. \n",
    "If the resulting value is less than 0, clamp it to this 0.\n",
    "\n",
    "What do you think is the effect of this operation?"
   ]
  },
  {
   "cell_type": "code",
   "execution_count": null,
   "metadata": {
    "id": "HGjEa6c5bcC7"
   },
   "outputs": [],
   "source": [
    "img_l2 = np.clip(img_gray.astype(\"int16\")-50, 0, 255).astype(\"uint8\")\n",
    "plt.imshow(img_l1, cmap='gray', vmin=0, vmax=255)"
   ]
  },
  {
   "cell_type": "markdown",
   "metadata": {
    "id": "LAeCmuX7bcC-"
   },
   "source": [
    "Compute and display the histogram of img_l2. What do you notice? How is this histogram different than the previous ones?"
   ]
  },
  {
   "cell_type": "code",
   "execution_count": null,
   "metadata": {
    "id": "qFWVFXbvbcC_"
   },
   "outputs": [],
   "source": [
    "hist, bins = np.histogram(img_l2, bins=205)# [50-255], 206\n",
    "hist = np.concatenate((hist, np.zeros(50, dtype=\"uint16\")))\n",
    "hist[0] = 0 # this is so the whole graph doesn't get skewed by the abnormally large value of 255\n",
    "plt.bar(np.arange(255), hist, color='cornflowerblue')\n",
    "plt.title('histogram of the grayscale image')"
   ]
  },
  {
   "cell_type": "markdown",
   "metadata": {
    "id": "Aqv6fAdhbcDB"
   },
   "source": [
    "Add a positive number (for example 40) to the red channel of the color image and store the result in imgg. If the result of the addition exceeds 255, clamp it to 255.\n",
    "What do you think is the effect of this operation?\n",
    "Display the resulting image imgr."
   ]
  },
  {
   "cell_type": "code",
   "execution_count": null,
   "metadata": {
    "id": "zJN-6biAbcDB"
   },
   "outputs": [],
   "source": [
    "from copy import deepcopy\n",
    "img_redder = deepcopy(img_resize_prop).astype(\"uint16\")\n",
    "img_redder[:, :, 0] += 50\n",
    "img_redder = np.clip(img_redder, 0, 255).astype(\"uint8\")\n",
    "plt.imshow(img_redder)"
   ]
  },
  {
   "cell_type": "markdown",
   "metadata": {
    "id": "19jFqEbdbcDD"
   },
   "source": [
    "Display a region of interest from the input image defined by the rectangle (x=350, y=400, sz=(500x400)). \n",
    "\n",
    "Hint: an image is just a numpy array, so you can easily achieve this with array slicing."
   ]
  },
  {
   "cell_type": "code",
   "execution_count": null,
   "metadata": {
    "id": "30Nbirl-bcDE"
   },
   "outputs": [],
   "source": [
    "smaller_img = img[350:850, 400:800, :]\n",
    "plt.imshow(smaller_img)"
   ]
  },
  {
   "cell_type": "markdown",
   "metadata": {
    "id": "0PgFRHbVbcDG"
   },
   "source": [
    "# Hello convolutional neural networks !\n",
    "\n",
    "In the last part of this introductory laboratory, you'll \"meet\" a convolutional network for object classification. For now, consider it just as a black box that takes an image as input and outputs the 3-top predictions; however this network requires that the input data has the following properties:\n",
    "- the size of the input image must be 224x224\n",
    "- the channels of the image should be stored in BGR format\n",
    "- the type of the data (of the numpy array) is float32\n",
    "- the values  [103.939, 116.779, 123.68] (BGR mean) should be subtracted from each pixel of the array\n",
    "- prior to feeding the image to model.predict() should be added such that the shape of the image is (1, 224, 224, 3)\n",
    "\n",
    "Your task is to pre-process the input images such that they are in the format requested by the network. "
   ]
  },
  {
   "cell_type": "code",
   "execution_count": null,
   "metadata": {
    "colab": {
     "base_uri": "https://localhost:8080/"
    },
    "id": "6-BgMwebbcDH",
    "outputId": "aca8149b-b835-4a0f-e6fa-1635933a0b9c"
   },
   "outputs": [],
   "source": [
    "import tensorflow as tf\n",
    "from tensorflow.keras.applications import ResNet50\n",
    "from tensorflow.keras.applications.resnet import decode_predictions\n",
    "\n",
    "model = ResNet50(weights='imagenet')"
   ]
  },
  {
   "cell_type": "code",
   "execution_count": null,
   "metadata": {
    "colab": {
     "base_uri": "https://localhost:8080/"
    },
    "id": "84rD74vrgwnV",
    "outputId": "175b7008-9dd5-4175-f396-a45777b7db3e"
   },
   "outputs": [],
   "source": [
    "!wget \"https://docs.google.com/uc?export=download&id=1X9au_JCNv4fg2Wgsr4DFT-N0OZht6Zmp\" -O elephant.jpg\n",
    "!cp \"/run/media/flaviu/Storage/Wallpapers/Avatars/My Face.jpg\" \"./face.jpg\""
   ]
  },
  {
   "cell_type": "code",
   "execution_count": null,
   "metadata": {
    "colab": {
     "base_uri": "https://localhost:8080/",
     "height": 234
    },
    "id": "FYE8HL-WbcDJ",
    "outputId": "fab9b644-67f3-4032-f991-2f11e1904aa5"
   },
   "outputs": [],
   "source": [
    "from keras.preprocessing import image\n",
    "from tensorflow.keras.applications.resnet import preprocess_input\n",
    "\n",
    "img_path = './elephant.jpg'\n",
    "\n",
    "im = cv2.imread(img_path)\n",
    "\n",
    "def prepared_image(img):\n",
    "    im =  cv2.resize(deepcopy(img), (224, 224)).astype(\"float32\")\n",
    "    im = im-np.array([103.939, 116.779, 123.68])\n",
    "    return np.reshape(im, (1, 224, 224, 3))\n",
    "\n",
    "def display_prediction(img):\n",
    "    preds = model.predict(prepared_image(img))\n",
    "    # decode the results into a list of tuples (class, description, probability)\n",
    "    # (one such list for each sample in the batch)\n",
    "    predictions = decode_predictions(preds, top=3)[0]\n",
    "    print('The top 3 predictions are: ')\n",
    "    for pred in predictions:\n",
    "        print('\\t %s with probability %0.2f%%'% (pred[1], float(pred[2])*100))\n",
    "\n",
    "display_prediction(im)"
   ]
  },
  {
   "cell_type": "markdown",
   "metadata": {
    "id": "dzr-cm4dbcDL"
   },
   "source": [
    "Apply different effects (crop it, lower the contrast, change the brightness) on the training image and see if you can \"fool\" the network.\n",
    "\n",
    "Also, upload other images from your computer and see what the network predicts"
   ]
  },
  {
   "cell_type": "code",
   "execution_count": null,
   "metadata": {
    "id": "Bw1NSd_wbcDL",
    "scrolled": true
   },
   "outputs": [],
   "source": [
    "start_x = 96\n",
    "start_y = 347\n",
    "size = 410\n",
    "contrast = 10\n",
    "brightness = 10\n",
    "new_im = deepcopy(im)\n",
    "new_im = new_im[start_x:start_x+size, start_y:start_y+size, :]\n",
    "new_im = cv2.addWeighted( new_im, contrast, new_im, 0, brightness)\n",
    "plt.imshow(new_im)\n",
    "display_prediction(new_im)"
   ]
  },
  {
   "cell_type": "code",
   "execution_count": null,
   "metadata": {},
   "outputs": [],
   "source": [
    "im2 = cv2.imread(\"./face.jpg\")\n",
    "plt.imshow(im2)\n",
    "display_prediction(im2)"
   ]
  },
  {
   "cell_type": "markdown",
   "metadata": {
    "id": "nXuUsv-jbcDP"
   },
   "source": [
    "Congratulations for reaching this point! This is the end of first laboratory.\n",
    "Next time we'll build (from scratch) a simple linear classifier to recognize different objects from images."
   ]
  },
  {
   "cell_type": "markdown",
   "metadata": {
    "id": "PFpvkcY2yRKl"
   },
   "source": [
    "It would be great if you could tell me what you liked (or not) about this tutorial, so I can make it better for the next iteration! [feedback form](https://docs.google.com/forms/d/1hh3qUKsbVtKnRb2SS_bY7o52jf5O8n4-N6icuBv3F1k/)\n",
    "Thank you!"
   ]
  }
 ],
 "metadata": {
  "colab": {
   "collapsed_sections": [],
   "name": "Computer Vision and Deep Learning - Laboratory 1 [Students].ipynb",
   "provenance": []
  },
  "kernelspec": {
   "display_name": "local-venv",
   "language": "python",
   "name": "local-venv"
  },
  "language_info": {
   "codemirror_mode": {
    "name": "ipython",
    "version": 3
   },
   "file_extension": ".py",
   "mimetype": "text/x-python",
   "name": "python",
   "nbconvert_exporter": "python",
   "pygments_lexer": "ipython3",
   "version": "3.9.7"
  }
 },
 "nbformat": 4,
 "nbformat_minor": 1
}
