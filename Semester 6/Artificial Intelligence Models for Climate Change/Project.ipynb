{
  "nbformat": 4,
  "nbformat_minor": 0,
  "metadata": {
    "colab": {
      "name": "Untitled6-1-1.ipynb",
      "provenance": [],
      "collapsed_sections": []
    },
    "kernelspec": {
      "name": "python3",
      "display_name": "Python 3"
    },
    "language_info": {
      "name": "python"
    },
    "accelerator": "GPU"
  },
  "cells": [
    {
      "cell_type": "code",
      "execution_count": null,
      "metadata": {
        "id": "-loP19UurRFx"
      },
      "outputs": [],
      "source": [
        "import tensorflow as tf\n",
        "\n",
        "from tensorflow.keras import datasets, layers, models\n",
        "import matplotlib.pyplot as plt\n",
        "from sklearn.model_selection import train_test_split"
      ]
    },
    {
      "cell_type": "code",
      "source": [
        "from google.colab import drive\n",
        "drive.mount('/content/drive')"
      ],
      "metadata": {
        "colab": {
          "base_uri": "https://localhost:8080/"
        },
        "id": "P9aljl-De9W7",
        "outputId": "598a25b5-9c16-4cae-afad-4e05eadf2f55"
      },
      "execution_count": null,
      "outputs": [
        {
          "output_type": "stream",
          "name": "stdout",
          "text": [
            "Mounted at /content/drive\n"
          ]
        }
      ]
    },
    {
      "cell_type": "code",
      "source": [
        "train_ds = tf.keras.utils.image_dataset_from_directory(\n",
        "  \"/content/drive/MyDrive/fire_dataset\",\n",
        "  validation_split=0.2,\n",
        "  subset=\"training\",\n",
        "  seed=123,\n",
        "  image_size=(32, 32),\n",
        "  batch_size=10)\n",
        "\n",
        "test_ds = tf.keras.utils.image_dataset_from_directory(\n",
        "  \"/content/drive/MyDrive/fire_dataset\",\n",
        "  validation_split=0.2,\n",
        "  subset=\"validation\",\n",
        "  seed=123,\n",
        "  image_size=(32, 32),\n",
        "  batch_size=10)\n"
      ],
      "metadata": {
        "colab": {
          "base_uri": "https://localhost:8080/"
        },
        "id": "JVXJY3Kar-j7",
        "outputId": "ae091199-d7f9-4d13-cf1e-c85a285de6e2"
      },
      "execution_count": null,
      "outputs": [
        {
          "output_type": "stream",
          "name": "stdout",
          "text": [
            "Found 993 files belonging to 2 classes.\n",
            "Using 795 files for training.\n",
            "Found 993 files belonging to 2 classes.\n",
            "Using 198 files for validation.\n"
          ]
        }
      ]
    },
    {
      "cell_type": "code",
      "source": [
        "class_names = ['fire', 'not_fire']\n",
        "\n",
        "model = models.Sequential()\n",
        "model.add(layers.Conv2D(32, (3, 3), activation='relu', input_shape=(32, 32, 3)))\n",
        "model.add(layers.MaxPooling2D((2, 2)))\n",
        "model.add(layers.Conv2D(64, (3, 3), activation='relu'))\n",
        "model.add(layers.MaxPooling2D((2, 2)))\n",
        "model.add(layers.Conv2D(64, (3, 3), activation='relu'))\n",
        "model.add(layers.Conv2D(128, (3, 3), activation='relu'))\n"
      ],
      "metadata": {
        "id": "9Ca_QvCSxfpg"
      },
      "execution_count": null,
      "outputs": []
    },
    {
      "cell_type": "code",
      "source": [
        "model.add(layers.Flatten())\n",
        "model.add(layers.Dense(128, activation='relu'))\n",
        "model.add(layers.Dense(2))"
      ],
      "metadata": {
        "id": "rPQ9q0xex8dB"
      },
      "execution_count": null,
      "outputs": []
    },
    {
      "cell_type": "code",
      "source": [
        "model.summary()"
      ],
      "metadata": {
        "colab": {
          "base_uri": "https://localhost:8080/"
        },
        "id": "fL2rA3XoyhzL",
        "outputId": "51e6df96-b065-46f1-9425-1972a4d12099"
      },
      "execution_count": null,
      "outputs": [
        {
          "output_type": "stream",
          "name": "stdout",
          "text": [
            "Model: \"sequential_1\"\n",
            "_________________________________________________________________\n",
            " Layer (type)                Output Shape              Param #   \n",
            "=================================================================\n",
            " conv2d_4 (Conv2D)           (None, 30, 30, 32)        896       \n",
            "                                                                 \n",
            " max_pooling2d_2 (MaxPooling  (None, 15, 15, 32)       0         \n",
            " 2D)                                                             \n",
            "                                                                 \n",
            " conv2d_5 (Conv2D)           (None, 13, 13, 64)        18496     \n",
            "                                                                 \n",
            " max_pooling2d_3 (MaxPooling  (None, 6, 6, 64)         0         \n",
            " 2D)                                                             \n",
            "                                                                 \n",
            " conv2d_6 (Conv2D)           (None, 4, 4, 64)          36928     \n",
            "                                                                 \n",
            " conv2d_7 (Conv2D)           (None, 2, 2, 128)         73856     \n",
            "                                                                 \n",
            " flatten_1 (Flatten)         (None, 512)               0         \n",
            "                                                                 \n",
            " dense_2 (Dense)             (None, 128)               65664     \n",
            "                                                                 \n",
            " dense_3 (Dense)             (None, 2)                 258       \n",
            "                                                                 \n",
            "=================================================================\n",
            "Total params: 196,098\n",
            "Trainable params: 196,098\n",
            "Non-trainable params: 0\n",
            "_________________________________________________________________\n"
          ]
        }
      ]
    },
    {
      "cell_type": "code",
      "source": [
        "model.compile(optimizer='adam',\n",
        "              loss=tf.keras.losses.SparseCategoricalCrossentropy(from_logits=True),\n",
        "              metrics=['accuracy'])\n",
        "\n",
        "history = model.fit(train_ds, epochs=14, validation_data=test_ds)"
      ],
      "metadata": {
        "colab": {
          "base_uri": "https://localhost:8080/"
        },
        "id": "bNkULhJJyFQt",
        "outputId": "69538fa3-638d-4b0d-c779-8e60a0c11b0f"
      },
      "execution_count": null,
      "outputs": [
        {
          "output_type": "stream",
          "name": "stdout",
          "text": [
            "Epoch 1/14\n",
            "80/80 [==============================] - 18s 188ms/step - loss: 1.3178 - accuracy: 0.8428 - val_loss: 0.1796 - val_accuracy: 0.9394\n",
            "Epoch 2/14\n",
            "80/80 [==============================] - 17s 193ms/step - loss: 0.1779 - accuracy: 0.9333 - val_loss: 0.1492 - val_accuracy: 0.9444\n",
            "Epoch 3/14\n",
            "80/80 [==============================] - 16s 180ms/step - loss: 0.2652 - accuracy: 0.8868 - val_loss: 0.1129 - val_accuracy: 0.9495\n",
            "Epoch 4/14\n",
            "80/80 [==============================] - 16s 184ms/step - loss: 0.1541 - accuracy: 0.9321 - val_loss: 0.2292 - val_accuracy: 0.9343\n",
            "Epoch 5/14\n",
            "80/80 [==============================] - 17s 194ms/step - loss: 0.0912 - accuracy: 0.9660 - val_loss: 0.1147 - val_accuracy: 0.9646\n",
            "Epoch 6/14\n",
            "80/80 [==============================] - 16s 185ms/step - loss: 0.0922 - accuracy: 0.9698 - val_loss: 0.1381 - val_accuracy: 0.9444\n",
            "Epoch 7/14\n",
            "80/80 [==============================] - 16s 185ms/step - loss: 0.0682 - accuracy: 0.9660 - val_loss: 0.1435 - val_accuracy: 0.9495\n",
            "Epoch 8/14\n",
            "80/80 [==============================] - 16s 185ms/step - loss: 0.0490 - accuracy: 0.9786 - val_loss: 0.1330 - val_accuracy: 0.9596\n",
            "Epoch 9/14\n",
            "80/80 [==============================] - 16s 186ms/step - loss: 0.0359 - accuracy: 0.9849 - val_loss: 0.1835 - val_accuracy: 0.9495\n",
            "Epoch 10/14\n",
            "80/80 [==============================] - 16s 185ms/step - loss: 0.1272 - accuracy: 0.9535 - val_loss: 0.1296 - val_accuracy: 0.9495\n",
            "Epoch 11/14\n",
            "80/80 [==============================] - 16s 185ms/step - loss: 0.0624 - accuracy: 0.9748 - val_loss: 0.1454 - val_accuracy: 0.9192\n",
            "Epoch 12/14\n",
            "80/80 [==============================] - 18s 205ms/step - loss: 0.0477 - accuracy: 0.9774 - val_loss: 0.2327 - val_accuracy: 0.9394\n",
            "Epoch 13/14\n",
            "80/80 [==============================] - 16s 186ms/step - loss: 0.0094 - accuracy: 0.9975 - val_loss: 0.2349 - val_accuracy: 0.9646\n",
            "Epoch 14/14\n",
            "80/80 [==============================] - 16s 184ms/step - loss: 0.0075 - accuracy: 0.9962 - val_loss: 0.3279 - val_accuracy: 0.9697\n"
          ]
        }
      ]
    },
    {
      "cell_type": "code",
      "source": [
        "\n",
        "import numpy as np\n",
        "\n",
        "def confusion_matrix(y_true: np.ndarray, y_pred: np.ndarray, num_classes=None) -> np.ndarray:\n",
        "    \"\"\"\"\n",
        "    Computes the confusion matrix from labels (y_true) and predictions (y_pred).\n",
        "    The matrix columns represent the prediction labels and the rows represent the ground truth labels.\n",
        "    The confusion matrix is always a 2-D array of shape `[num_classes, num_classes]`,\n",
        "    where `num_classes` is the number of valid labels for a given classification task.\n",
        "    The arguments y_true and y_pred must have the same shapes in order for this function to work\n",
        "    num_classes represents the number of classes for the classification problem. If this is not provided,\n",
        "    it will be computed from both y_true and y_pred\n",
        "    \"\"\"\n",
        "    # even here try to use vectorization, so NO for loops\n",
        "\n",
        "    # 0. if the number of classes is not provided, compute it based on the y_true and y_pred arrays\n",
        "\n",
        "    # 1. create a confusion matrix of shape (num_classes, num_classes) and initialize it to 0\n",
        "\n",
        "    # 2. use argmax to get the maximal prediction for each sample\n",
        "    # hint: you might find np.add.at useful: https://numpy.org/doc/stable/reference/generated/numpy.ufunc.at.html\n",
        "\n",
        "    if num_classes is None:\n",
        "        num_classes = len(np.unique(np.concatenate([y_true, y_pred])))\n",
        "    conf_mat = np.zeros((num_classes, num_classes))\n",
        "    np.add.at(conf_mat, (y_true, y_pred), 1)\n",
        "    return conf_mat\n",
        "\n",
        "\n",
        "def precision_score(y_true: np.ndarray, y_pred: np.ndarray, num_classes=None) -> float:\n",
        "    \"\"\"\"\n",
        "    Computes the precision score.\n",
        "    For binary classification, the precision score is defined as the ratio tp / (tp + fp)\n",
        "    where tp is the number of true positives and fp the number of false positives.\n",
        "    For multiclass classification, the precision and recall scores are obtained by summing over the rows / columns\n",
        "    of the confusion matrix.\n",
        "    num_classes represents the number of classes for the classification problem. If this is not provided,\n",
        "    it will be computed from both y_true and y_pred\n",
        "    \"\"\"\n",
        "    if num_classes is None:\n",
        "        num_classes = len(np.unique(np.concatenate([y_true, y_pred])))\n",
        "    conf = confusion_matrix(y_true, y_pred, num_classes)\n",
        "    tp = np.diag(conf)\n",
        "    tp_plus_fp = np.sum(conf, axis=0)\n",
        "    precision = np.divide(tp, tp_plus_fp, where=tp_plus_fp != 0)\n",
        "    return precision\n",
        "\n",
        "\n",
        "def recall_score(y_true: np.ndarray, y_pred: np.ndarray, num_classes=None) -> float:\n",
        "    \"\"\"\"\n",
        "    Computes the recall score.\n",
        "    For binary classification, the recall score is defined as the ratio tp / (tp + fn)\n",
        "    where tp is the number of true positives and fn the number of false negatives\n",
        "    For multiclass classification, the precision and recall scores are obtained by summing over the rows / columns\n",
        "    of the confusion matrix.\n",
        "    num_classes represents the number of classes for the classification problem. If this is not provided,\n",
        "    it will be computed from both y_true and y_pred\n",
        "    \"\"\"\n",
        "    if num_classes is None:\n",
        "        num_classes = len(np.unique(np.concatenate([y_true, y_pred])))\n",
        "    conf = confusion_matrix(y_true, y_pred, num_classes)\n",
        "    tp = np.diag(conf)\n",
        "    tp_plus_fn = np.sum(conf, axis=1)\n",
        "    precision = np.divide(tp, tp_plus_fn, where=tp_plus_fn != 0)\n",
        "    return precision\n",
        "\n",
        "\n",
        "def accuracy_score(y_true: np.ndarray, y_pred: np.ndarray) -> float:\n",
        "    # remember, use vectorization, so no for loops\n",
        "    # hint: you might find np.trace useful here https://numpy.org/doc/stable/reference/generated/numpy.trace.html\n",
        "    return np.trace(confusion_matrix(y_true, y_pred)) / len(y_true)\n",
        "\n",
        "\n",
        "def f1_score(y_true: np.ndarray, y_pred: np.ndarray, num_classes=None) -> float:\n",
        "    precision = precision_score(y_true, y_pred)\n",
        "    recall = recall_score(y_true, y_pred)\n",
        "    if num_classes is None:\n",
        "        num_classes = len(np.unique(np.concatenate([y_true, y_pred])))\n",
        "    multiply = 2 * precision * recall\n",
        "    pr_sum = precision + recall\n",
        "    return np.divide(multiply, pr_sum, where=pr_sum != 0)\n",
        "\n",
        "\n",
        "def print_stats(y_true, y_pred):\n",
        "    print(\"Confusion\")\n",
        "    print(confusion_matrix(y_true, y_pred))\n",
        "    print(\"Precision\")\n",
        "    print(precision_score(y_true, y_pred))\n",
        "    print(\"Recall\")\n",
        "    print(recall_score(y_true, y_pred))\n",
        "    print(\"Accuracy\")\n",
        "    print(accuracy_score(y_true, y_pred))\n",
        "    print(\"F1 score\")\n",
        "    print(f1_score(y_true, y_pred))"
      ],
      "metadata": {
        "id": "hnuBUQWjgfIP"
      },
      "execution_count": null,
      "outputs": []
    },
    {
      "cell_type": "code",
      "source": [
        "B_x = []\n",
        "B_y = []\n",
        "preds = []\n",
        "for batch_x, batch_y in test_ds:\n",
        "    B_x.extend(batch_x)\n",
        "    B_y.extend(batch_y)\n",
        "B_x = np.asarray(B_x)\n",
        "B_y = np.asarray(B_y)\n",
        "predictions = model.predict(B_x)\n",
        "predictions = tf.argmax(predictions, axis=-1).numpy()\n",
        "print_stats(B_y, predictions)"
      ],
      "metadata": {
        "colab": {
          "base_uri": "https://localhost:8080/"
        },
        "id": "n5dSC4sTiSaP",
        "outputId": "6268671c-bbe6-4408-e2a8-03169cadbb79"
      },
      "execution_count": null,
      "outputs": [
        {
          "output_type": "stream",
          "name": "stdout",
          "text": [
            "Confusion\n",
            "[[146.   4.]\n",
            " [  2.  46.]]\n",
            "Precision\n",
            "[0.98648649 0.92      ]\n",
            "Recall\n",
            "[0.97333333 0.95833333]\n",
            "Accuracy\n",
            "0.9696969696969697\n",
            "F1 score\n",
            "[0.97986577 0.93877551]\n"
          ]
        }
      ]
    },
    {
      "cell_type": "code",
      "source": [
        "plt.plot(history.history['accuracy'], label='accuracy')\n",
        "plt.plot(history.history['val_accuracy'], label='val_accuracy')\n",
        "plt.xlabel('Epoch')\n",
        "plt.ylabel('Accuracy')\n",
        "plt.ylim([0.5, 1])\n",
        "plt.legend(loc='lower right')"
      ],
      "metadata": {
        "colab": {
          "base_uri": "https://localhost:8080/",
          "height": 300
        },
        "id": "zzQmqWcizz4P",
        "outputId": "6ca3e6af-4e49-4f1b-b7da-433afba39b86"
      },
      "execution_count": null,
      "outputs": [
        {
          "output_type": "execute_result",
          "data": {
            "text/plain": [
              "<matplotlib.legend.Legend at 0x7f7ccc414710>"
            ]
          },
          "metadata": {},
          "execution_count": 45
        },
        {
          "output_type": "display_data",
          "data": {
            "text/plain": [
              "<Figure size 432x288 with 1 Axes>"
            ],
            "image/png": "[encoded data removed]"
          },
          "metadata": {
            "needs_background": "light"
          }
        }
      ]
    }
  ]
}